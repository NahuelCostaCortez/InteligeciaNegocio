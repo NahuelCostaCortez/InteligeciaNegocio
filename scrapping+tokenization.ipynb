{
  "cells": [
    {
      "cell_type": "markdown",
      "metadata": {
        "id": "YKBhnqQfkmKs"
      },
      "source": [
        "[![Colab](https://colab.research.google.com/assets/colab-badge.svg)](https://github.com/NahuelCostaCortez/InteligeciaNegocio/blob/main/scrapping%2Btokenization.ipynb)"
      ]
    },
    {
      "cell_type": "code",
      "execution_count": null,
      "metadata": {
        "id": "UizBxgJgH1I8"
      },
      "outputs": [],
      "source": [
        "import random"
      ]
    },
    {
      "cell_type": "markdown",
      "metadata": {
        "id": "0nfh1onDNtxd"
      },
      "source": [
        "## Obtener datos"
      ]
    },
    {
      "cell_type": "markdown",
      "metadata": {
        "id": "lKFhhEPONy76"
      },
      "source": [
        "1.   Elegir fuente de datos (sitio web)\n",
        "2.   Acceder a la URL del sitio web y descargar todo el contenido HTML\n",
        "3.   Formatear el contenido descargado en un formato legible\n",
        "\n"
      ]
    },
    {
      "cell_type": "code",
      "execution_count": null,
      "metadata": {
        "id": "meqUSK20PAiQ"
      },
      "outputs": [],
      "source": [
        "from bs4 import BeautifulSoup\n",
        "import requests\n",
        "\n",
        "# Solicitar al sitio web y descargar los contenidos HTML\n",
        "url='https://vas3k.com/blog/machine_learning/#scroll20'\n",
        "req=requests.get(url)\n",
        "content=req.text"
      ]
    },
    {
      "cell_type": "code",
      "execution_count": null,
      "metadata": {
        "colab": {
          "base_uri": "https://localhost:8080/",
          "height": 178
        },
        "id": "5Y8FgkQ5PCHh",
        "outputId": "6fafdadd-0445-4087-c18c-ad065538f326"
      },
      "outputs": [
        {
          "data": {
            "application/vnd.google.colaboratory.intrinsic+json": {
              "type": "string"
            },
            "text/plain": [
              "'\\n<!DOCTYPE html>\\n<html>\\n    <head>\\n        <title>\\n    Machine Learning for Everyone :: In simple words. With real-world examples. Yes, again :: vas3k.com\\n</title>\\n        <meta charset=\"UTF-8\"/>\\n        <meta name=\"description\" content=\"Blog about survival in the world of technology and all this cyberpunk around\"/>\\n        <meta name=\"keywords\" content=\"\"/>\\n        <meta name=\"author\" content=\"\"/>\\n        <meta name=\"viewport\" content=\"width=device-width, height=device-height, initial-scale=1.0\" />\\n        \\n    <meta name=\"robots\" content=\"index, follow\">\\n    <meta property=\"author\" content=\"vas3k\">\\n    <meta property=\"article:publisher\" content=\"https://vas3k.com\">\\n    <meta property=\"article:author\" content=\"https://vas3k.com\">\\n    <meta property=\"article:published_time\" content=\"2018-11-21 16:23:29\">\\n\\n    <meta property=\"og:type\" content=\"article\">\\n    <meta property=\"og:title\" content=\"Machine Learning for Everyone\" />\\n    <meta property=\"og:description\" content=\"\\n                                                In simple words. With real-world examples. Yes, again\\n                                             \" />\\n    <meta property=\"og:image\" content=\"\\n                                            https://i.vas3k.ru/900/80c.jpg\\n                                       \" />\\n    <meta property=\"og:url\" content=\"http://vas3k.com/blog/machine_learning/\" />\\n\\n    <meta name=\"twitter:card\" content=\"summary_large_image\">\\n    <meta name=\"twitter:title\" content=\"Machine Learning for Everyone\">\\n    <meta name=\"twitter:description\" content=\"\\n                                                 In simple words. With real-world examples. Yes, again\\n                                              \">\\n    <meta name=\"twitter:image\" content=\"\\n                                            https://i.vas3k.ru/900/80c.jpg\\n                                        \">\\n    <meta name=\"twitter:image:src\" content=\"\\n                                                https://i.vas3k.ru/900/80c.jpg\\n                                            \">\\n    <meta name=\"twitter:creator\" content=\"@vas3kcom\">\\n\\n        <link rel=\"alternate\" type=\"application/rss+xml\" title=\"Full RSS feed\" href=\"https://vas3k.com/rss/\" />\\n\\n        \\n<link rel=\"icon\" type=\"image/png\" href=\"/static/images/favicon_32.png\" sizes=\"32x32\">\\n<link rel=\"icon\" type=\"image/png\" href=\"/static/images/favicon_64.png\" sizes=\"64x64\">\\n<link rel=\"icon\" type=\"image/png\" href=\"/static/images/favicon_128.png\" sizes=\"128x128\">\\n<link rel=\"shortcut icon\" type=\"image/png\" href=\"/static/images/favicon_square.png\">\\n<link rel=\"apple-touch-icon\" type=\"image/png\" href=\"/static/images/favicon_square.png\">\\n<link rel=\"mask-icon\" href=\"/static/images/favicon_128.png\" color=\"#5954ca\">\\n\\n        \\n<link href=\"https://fonts.googleapis.com/css?family=Merriweather|Ubuntu:400,500&display=swap&subset=cyrillic\" rel=\"stylesheet\">\\n<link rel=\"stylesheet\" href=\"/static/css/normalize.min.css\">\\n<link rel=\"stylesheet\" href=\"/static/css/highlight/monokai_sublime.css\">\\n<script src=\"https://kit.fontawesome.com/c29b827576.js\" crossorigin=\"anonymous\"></script>\\n<link rel=\"stylesheet\" href=\"/static/css/font-awesome.min.css\">\\n<link rel=\"stylesheet\" href=\"/static/css/blocks.css?v=0.14781519621688977\">\\n<link rel=\"stylesheet\" href=\"/static/css/stories.css?v=0.14781519621688977\">\\n<link rel=\"stylesheet\" href=\"/static/css/styles.css?v=0.14781519621688977\">\\n<link rel=\"stylesheet\" href=\"/static/css/adaptive.css?v=0.14781519621688977\">\\n<link rel=\"stylesheet\" href=\"/static/css/dotcom.css?v=0.14781519621688977\">\\n\\n        \\n\\n        <script src=\"/static/js/vendor/jquery-1.11.1.min.js\"></script>\\n    </head>\\n    <body style=\"\\n    \\n    \\n\">\\n        \\n            \\n\\n<div class=\"blog-logo\">\\n    <a href=\"/\">\\n        <span>vas3k</span><img src=\"/static/images/logo.png\" alt=\" \" /><span>blog</span>\\n    </a>\\n</div>\\n\\n        \\n\\n        \\n<div class=\"container container_width_full\">\\n    <div class=\"content blog\">\\n        \\n\\n<style>\\n\\n\\n\\n\\n\\n    .headline-info__title {\\n        font-size: 250% !important;\\n    }\\n\\n</style>\\n\\n<div class=\"headline\">\\n    \\n        \\n            <div class=\"headline-image\" style=\"background-image: url(\\'https://i.vas3k.ru/full/80c.jpg\\');\">\\n                <img src=\"https://i.vas3k.ru/full/80c.jpg\" alt=\"\" class=\"the-cover\">\\n            </div>\\n        \\n\\n    \\n\\n    <div class=\"headline-info\">\\n        <div class=\"headline-info__title the-title\">Machine Learning for Everyone</div>\\n        \\n            <div class=\"clearfix20\"></div>\\n            <div class=\"headline-info__subtitle the-subtitle\">In simple words. With real-world examples. Yes, again</div>\\n        \\n        <div class=\"clearfix\"></div>\\n        <div class=\"headline-info__date\">21 November 2018 :: 446&nbsp;comments :: 975145&nbsp;views :: 8134&nbsp;words</div>\\n    </div>\\n</div>\\n\\n\\n        <div class=\"post \">\\n            <div class=\"post-share\">\\n    <script type=\"text/javascript\" src=\"//s7.addthis.com/js/300/addthis_widget.js#pubid=ra-5c6c510dc9e9e17b\"></script>\\n    <div class=\"addthis_inline_share_toolbox\"></div>\\n</div>\\n\\n\\n            <div id=\"\" class=\"block-text nocomments\"><div class=\"block-cite\">\\n<p>Other languages: <a href=\"https://vas3k.ru/blog/machine_learning/\" target=\"_blank\">Russian</a> | <a href=\"https://www.datageeks.com.br/machine-learning/\" target=\"_blank\">Portuguese</a></p>\\n</div>\\n\\n\\n<p>Machine Learning is like sex in high school. Everyone is talking about it, a few know what to do, and only your teacher is doing it. If you ever tried to read articles about machine learning on the Internet, most likely you stumbled upon two types of them: thick academic trilogies filled with theorems (I couldn’t even get through half of one) or fishy fairytales about <em>artificial intelligence</em>, <em>data-science magic</em>, and <em>jobs of the future</em>.</p>\\n\\n<p>I decided to write a post I’ve been wishing existed for a long time. A simple introduction for those who always wanted to understand machine learning. Only real-world problems, practical solutions, simple language, and no high-level theorems. One and for everyone. Whether you are a programmer or a manager.</p>\\n\\n<p>Let\\'s roll.</p>\\n\\n<p><a href=\"https://gum.co/udboe\" class=\"block-button block-button_color_red\" target=\"_blank\">⭐️&nbsp;Buy&nbsp;offline&nbsp;version of this article</a> <a href=\"https://vas3k.com/donate/\" class=\"block-button block-button_color_red\" target=\"_blank\">❤️ Support my work</a></p>\\n\\n\\n<div id=\"\" class=\"block-media block-media__body\">\\n<p><figure><a href=\"https://i.vas3k.ru/7vu.jpg\"><img src=\"https://i.vas3k.ru/7vu.jpg\" alt=\"\"></a></figure></p>\\n</div>\\n\\n\\n</div>\\n\\n<div id=\"\" class=\"block-text\"><h2 id=\"scroll10\"><a href=\"#scroll10\">Why do we want machines to learn?</a></h2>\\n\\n<div id=\"\" class=\"block-side block-side__right width-25\">\\n<p><figure><a href=\"https://i.vas3k.ru/7vv.jpg\"><img src=\"https://i.vas3k.ru/7vv.jpg\" alt=\"\"></a></figure></p>\\n</div>\\n\\n\\n<p>This is Billy. Billy wants to buy a car. He tries to calculate how much he needs to save monthly for that. He went over dozens of ads on the internet and learned that new cars are around $20,000, used year-old ones are $19,000, 2-year old are $18,000 and so on.</p>\\n\\n<p>Billy, our brilliant analytic, starts seeing a pattern: <em>so, the car price depends on its age and drops $1,000 every year, but won\\'t get lower than $10,000.</em></p>\\n\\n<p>In machine learning terms, Billy invented <em>regression</em> – he predicted a value (price) based on known historical data. People do it all the time, when trying to estimate a reasonable cost for a used iPhone on eBay or figure out how many ribs to buy for a BBQ party. 200 grams per person? 500?</p>\\n\\n<p>Yeah, it would be nice to have a simple formula for every problem in the world. Especially, for a BBQ party. Unfortunately, it\\'s impossible.</p>\\n\\n<p>Let\\'s get back to cars. The problem is, they have different manufacturing dates, dozens of options, technical condition, seasonal demand spikes, and god only knows how many more hidden factors. An average Billy can\\'t keep all that data in his head while calculating the price. Me too.</p>\\n\\n<p>People are dumb and lazy – we need robots to do the maths for them. So, let\\'s go the computational way here. Let\\'s provide the machine some data and ask it to find all hidden patterns related to price.</p>\\n\\n<p>Aaaand it works. The most exciting thing is that the machine copes with this task much better than a real person does when carefully analyzing all the dependencies in their mind.</p>\\n\\n<p>That was the birth of machine learning.</p>\\n\\n</div>\\n\\n<div id=\"\" class=\"block-text\"><h2 id=\"scroll20\"><a href=\"#scroll20\">Three components of machine learning</a></h2>\\n<p>Without all the AI-bullshit, the only goal of machine learning is to predict results based on incoming data. That\\'s it. All ML tasks can be represented this way, or it\\'s not an ML problem from the beginning.</p>\\n\\n<p>The greater variety in the samples you have, the easier it is to find relevant patterns and predict the result. Therefore, we need three components to teach the machine:</p>\\n\\n<p><span class=\"starting\">Data</span> Want to detect spam? Get samples of spam messages. Want to forecast stocks? Find the price history. Want to find out user preferences? Parse their activities on Facebook (no, Mark, stop collecting it, enough!). The more diverse the data, the better the result. Tens of thousands of rows is the bare minimum for the desperate ones.</p>\\n\\n\\n<div id=\"\" class=\"block-side block-side__right width-25\">\\n<p><figure><a href=\"https://i.vas3k.ru/7sg.jpg\"><img src=\"https://i.vas3k.ru/7sg.jpg\" alt=\"\"></a></figure></p>\\n</div>\\n\\n\\n<p>There are two main ways to get the data — manual and automatic. Manually collected data contains far fewer errors but takes more time to collect — that makes it more expensive in general.</p>\\n\\n<p>Automatic approach is cheaper — you\\'re gathering everything you can find and hope for the best.</p>\\n\\n<p>Some smart asses like Google use their own customers to label data for them for free. Remember ReCaptcha which forces you to \"Select all street signs\"? That\\'s exactly what they\\'re doing. Free labour! Nice. In their place, I\\'d start to show captcha more and more. Oh, wait...</p>\\n\\n<p>It\\'s extremely tough to collect a good collection of data (usually called a dataset). They are so important that companies may even reveal their algorithms, but rarely datasets.</p>\\n\\n<p><span class=\"starting\">Features</span> Also known as parameters or variables. Those could be car mileage, user\\'s gender, stock price, word frequency in the text. In other words, these are the factors for a machine to look at.</p>\\n\\n<p>When data stored in tables it\\'s simple — features are column names. But what are they if you have 100 Gb of cat pics? We cannot consider each pixel as a feature. That\\'s why selecting the right features usually takes way longer than all the other ML parts. That\\'s also the main source of errors. Meatbags are always subjective. They choose only features they like or find \"more important\". Please, avoid being human.</p>\\n\\n<p><span class=\"starting\">Algorithms</span> Most obvious part. Any problem can be solved differently. The method you choose affects the precision, performance, and size of the final model. There is one important nuance though: if the data is crappy, even the best algorithm won\\'t help. Sometimes it\\'s referred as \"garbage in – garbage out\". So don\\'t pay too much attention to the percentage of accuracy, try to acquire more data first.</p>\\n\\n\\n<div id=\"\" class=\"block-media block-media__body\">\\n<p><figure><a href=\"https://i.vas3k.ru/7r8.jpg\"><img src=\"https://i.vas3k.ru/7r8.jpg\" alt=\"\"></a></figure></p>\\n</div>\\n\\n\\n</div>\\n\\n<div id=\"\" class=\"block-text\"><h2 id=\"scroll30\"><a href=\"#scroll30\">Learning vs Intelligence</a></h2>\\n<p>Once I saw an article titled <em>\"Will neural networks replace machine learning?\"</em> on some hipster media website. These media guys always call any shitty linear regression at least artificial intelligence, almost SkyNet. Here is a simple picture to show who is who.</p>\\n\\n\\n<div id=\"\" class=\"block-media block-media__body\">\\n<p><figure><a href=\"https://i.vas3k.ru/7vw.jpg\"><img src=\"https://i.vas3k.ru/7vw.jpg\" alt=\"\"></a></figure></p>\\n</div>\\n\\n\\n<p><strong>Artificial intelligence</strong> is the name of a whole knowledge field, similar to biology or chemistry.</p>\\n\\n<p><strong>Machine Learning</strong> is a part of artificial intelligence. An important part, but not the only one.</p>\\n\\n<p><strong>Neural Networks</strong> are one of machine learning types. A popular one, but there are other good guys in the class.</p>\\n\\n<p><strong>Deep Learning</strong> is a modern method of building, training, and using neural networks. Basically, it\\'s a new architecture. Nowadays in practice, no one separates deep learning from the \"ordinary networks\". We even use the same libraries for them. To not look like a dumbass, it\\'s better just name the type of network and avoid buzzwords.</p>\\n\\n<p>The general rule is to compare things on the same level. That\\'s why the phrase <em>\"will neural nets replace machine learning\"</em> sounds like <em>\"will the wheels replace cars\"</em>. Dear media, it\\'s compromising your reputation a lot.</p>\\n<style>\\n    .good {\\n        color: #1E8449;\\n        font-weight: bold;\\n        font-family: Ubuntu, sans-serif;\\n        padding-top: 30px;\\n        display: inline-block;\\n    }\\n\\n    .bad {\\n        color: #2874A6;\\n        font-weight: bold;\\n        font-family: Ubuntu, sans-serif;\\n        padding-top: 30px;\\n        display: inline-block;\\n    }\\n</style><table>\\n<thead><tr>\\n<th><strong class=\"good\">Machine can</strong></th>\\n<th><strong class=\"bad\">Machine cannot</strong></th>\\n</tr>\\n</thead>\\n<tbody>\\n<tr>\\n<td><strong>Forecast</strong></td>\\n<td><strong>Create something new</strong></td>\\n</tr>\\n<tr>\\n<td><strong>Memorize</strong></td>\\n<td><strong>Get smart really fast</strong></td>\\n</tr>\\n<tr>\\n<td><strong>Reproduce</strong></td>\\n<td><strong>Go beyond their task</strong></td>\\n</tr>\\n<tr>\\n<td><strong>Choose best item</strong></td>\\n<td><strong>Kill all humans</strong></td>\\n</tr>\\n</tbody>\\n</table>\\n\\n</div>\\n\\n<h1 id=\"scroll40\"><a href=\"#scroll40\">The map of the machine learning world</a></h1><div id=\"\" class=\"block-text\">\\n<p>If you are too lazy for long reads, take a look at the picture below to get some understanding.</p>\\n\\n\\n<div id=\"\" class=\"block-media block-media__body\">\\n<p><figure><a href=\"https://i.vas3k.ru/7vx.jpg\"><img src=\"https://i.vas3k.ru/7vx.jpg\" alt=\"\"></a></figure></p>\\n</div>\\n\\n\\n<p>Always important to remember — there is never a sole way to solve a problem in the machine learning world. There are always several algorithms that fit, and you have to choose which one fits better. Everything can be solved with a neural network, of course, but who will pay for all these GeForces?</p>\\n\\n<p>Let\\'s start with a basic overview. Nowadays there are four main directions in machine learning.</p>\\n\\n\\n<div id=\"\" class=\"block-media block-media__body\">\\n<p><figure><a href=\"https://i.vas3k.ru/7vz.jpg\"><img src=\"https://i.vas3k.ru/7vz.jpg\" alt=\"\"></a></figure></p>\\n</div>\\n\\n\\n</div>\\n\\n<h1 id=\"scroll50\"><a href=\"#scroll50\">Part 1. Classical Machine Learning</a></h1><div id=\"\" class=\"block-text\">\\n<p>The first methods came from pure statistics in the \\'50s. They solved formal math tasks — searching for patterns in numbers, evaluating the proximity of data points, and calculating vectors\\' directions.</p>\\n\\n<p>Nowadays, half of the Internet is working on these algorithms. When you see a list of articles to \"read next\" or your bank blocks your card at random gas station in the middle of nowhere, most likely it\\'s the work of one of those little guys.</p>\\n\\n<p>Big tech companies are huge fans of neural networks. Obviously. For them, 2% accuracy is an additional 2 billion in revenue. But when you are small, it doesn\\'t make sense. I heard stories of the teams spending a year on a new recommendation algorithm for their e-commerce website, before discovering that 99% of traffic came from search engines. Their algorithms were useless. Most users didn\\'t even open the main page.</p>\\n\\n<p>Despite the popularity, classical approaches are so natural that you could easily explain them to a toddler. They are like basic arithmetic — we use it every day, without even thinking.</p>\\n\\n\\n<div id=\"\" class=\"block-media block-media__body\">\\n<p><figure><a href=\"https://i.vas3k.ru/7w1.jpg\"><img src=\"https://i.vas3k.ru/7w1.jpg\" alt=\"\"></a></figure></p>\\n</div>\\n\\n\\n</div>\\n\\n<div id=\"\" class=\"block-text\"><h1 id=\"scroll60\"><a href=\"#scroll60\">1.1 Supervised Learning</a></h1>\\n<p>Classical machine learning is often divided into two categories – <strong>Supervised</strong> and <strong>Unsupervised Learning</strong>.</p>\\n\\n<p>In the first case, the machine has a \"supervisor\" or a \"teacher\" who gives the machine all the answers, like whether it\\'s a cat in the picture or a dog. The teacher has already divided (labeled) the data into cats and dogs, and the machine is using these examples to learn. One by one. Dog by cat.</p>\\n\\n<p>Unsupervised learning means the machine is left on its own with a pile of animal photos and a task to find out who\\'s who. Data is not labeled, there\\'s no teacher, the machine is trying to find any patterns on its own. We\\'ll talk about these methods below.</p>\\n\\n<p>Clearly, the machine will learn faster with a teacher, so it\\'s more commonly used in real-life tasks. There are two types of such tasks: <strong>classification – an object\\'s category prediction, and regression – prediction of a specific point on a numeric axis</strong>.</p>\\n\\n</div>\\n\\n<div id=\"\" class=\"block-text\"><h2 id=\"scroll70\"><a href=\"#scroll70\">Classification</a></h2>\\n\\n<div id=\"\" class=\"block-side block-side__right\">\\n<p><figure><a href=\"https://i.vas3k.ru/7qx.jpg\"><img src=\"https://i.vas3k.ru/7qx.jpg\" alt=\"\"></a></figure></p>\\n</div>\\n\\n\\n<p><em>\"Splits objects based at one of the attributes known beforehand. Separate socks by based on color, documents based on language, music by genre\"</em></p>\\n\\n<p>Today used for:<br>\\n– Spam filtering<br>\\n– Language detection<br>\\n– A search of similar documents<br>\\n– Sentiment analysis<br>\\n– Recognition of handwritten characters and numbers<br>\\n– Fraud detection</p>\\n\\n<p>Popular algorithms: <a href=\"https://en.wikipedia.org/wiki/Naive_Bayes_classifier\" target=\"_blank\">Naive Bayes</a>, <a href=\"https://en.wikipedia.org/wiki/Decision_tree_learning\" target=\"_blank\">Decision Tree</a>, <a href=\"https://en.wikipedia.org/wiki/Logistic_regression\" target=\"_blank\">Logistic Regression</a>, <a href=\"https://en.wikipedia.org/wiki/K-nearest_neighbors_algorithm\" target=\"_blank\">K-Nearest Neighbours</a>, <a href=\"https://en.wikipedia.org/wiki/Support_vector_machine\" target=\"_blank\">Support Vector Machine</a></p>\\n<div class=\"block-cite\">\\n<p>From here onward you can comment with additional information for these sections. Feel free to write your examples of tasks. Everything is written here based on my own subjective experience.</p>\\n</div>\\n\\n\\n</div>\\n\\n<div id=\"\" class=\"block-text\">\\n<p>Machine learning is about classifying things, mostly. The machine here is like a baby learning to sort toys: here\\'s a robot, here\\'s a car, here\\'s a robo-car... Oh, wait. Error! Error!</p>\\n\\n<p>In classification, you always need a teacher. The data should be labeled with features so the machine could assign the classes based on them. Everything could be classified — users based on interests (as algorithmic feeds do), articles based on language and topic (that\\'s important for search engines), music based on genre (Spotify playlists), and even your emails.</p>\\n\\n<p>In spam filtering the <a href=\"https://www.analyticsvidhya.com/blog/2017/09/naive-bayes-explained/\" target=\"_blank\">Naive Bayes</a> algorithm was widely used. The machine counts the number of \"viagra\" mentions in spam and normal mail, then it multiplies both probabilities using the Bayes equation, sums the results and yay, we have Machine Learning.</p>\\n\\n\\n<div id=\"\" class=\"block-media block-media__body\">\\n<p><figure><a href=\"https://i.vas3k.ru/7w2.jpg\"><img src=\"https://i.vas3k.ru/7w2.jpg\" alt=\"\"></a></figure></p>\\n</div>\\n\\n\\n<p>Later, spammers learned how to deal with Bayesian filters by adding lots of \"good\" words at the end of the email. Ironically, the method was called <a href=\"https://en.wikipedia.org/wiki/Bayesian_poisoning\" target=\"_blank\">Bayesian poisoning</a>. Naive Bayes went down in history as the most elegant and first practically useful one, but now other algorithms are used for spam filtering.</p>\\n\\n<p>Here\\'s another practical example of classification. Let\\'s say you need some money on credit. How will the bank know if you\\'ll pay it back or not? There\\'s no way to know for sure. But the bank has lots of profiles of people who took money before. They have data about age, education, occupation and salary and – most importantly – the fact of paying the money back. Or not.</p>\\n\\n<p>Using this data, we can teach the machine to find the patterns and get the answer. There\\'s no issue with getting an answer. The issue is that the bank can\\'t blindly trust the machine answer. What if there\\'s a system failure, hacker attack or <em>a quick fix from a drunk senior</em>.</p>\\n\\n<p>To deal with it, we have <a href=\"https://www.youtube.com/watch?v=eKD5gxPPeY0\" target=\"_blank\">Decision Trees</a>. All the data automatically divided to yes/no questions. They could sound a bit weird from a human perspective, e.g., <em>whether the creditor earns more than $128.12?</em> Though, the machine comes up with such questions to split the data best at each step.</p>\\n\\n<p>That\\'s how a tree is made. The higher the branch — the broader the question. Any analyst can take it and explain afterward. He may not understand it, but explain easily! (typical analyst)</p>\\n\\n<p>Decision trees are widely used in high responsibility spheres: diagnostics, medicine, and finances.</p>\\n<div class=\"block-cite\">\\n<p>The two most popular algorithms for forming the trees are <a href=\"https://en.wikipedia.org/wiki/Predictive_analytics#Classification_and_regression_trees_.28CART.29\" target=\"_blank\">CART</a> and <a href=\"https://en.wikipedia.org/wiki/C4.5_algorithm\" target=\"_blank\">C4.5</a>.</p>\\n</div>\\n\\n\\n<p>Pure decision trees are rarely used today. However, they often set the basis for large systems, and their ensembles even work better than neural networks. We\\'ll talk about that later.</p>\\n<div class=\"block-cite\">\\n<p>When you google something, that\\'s precisely the bunch of dumb trees which are looking for a range of answers for you. Search engines love them because they\\'re fast.</p>\\n</div>\\n\\n\\n\\n<div id=\"\" class=\"block-media block-media__body\">\\n<p><figure><a href=\"https://i.vas3k.ru/7w3.jpg\"><img src=\"https://i.vas3k.ru/7w3.jpg\" alt=\"\"></a></figure></p>\\n</div>\\n\\n\\n<p><em>Support Vector Machines (SVM)</em> is rightfully the most popular method of classical classification. It was used to classify everything in existence: plants by appearance in photos, documents by categories, etc.</p>\\n\\n<p>The idea behind SVM is simple – it\\'s trying to draw two lines between your data points with the largest margin between them. Look at the picture:</p>\\n\\n\\n<div id=\"\" class=\"block-media block-media__body\">\\n<p><figure><a href=\"https://i.vas3k.ru/7w4.jpg\"><img src=\"https://i.vas3k.ru/7w4.jpg\" alt=\"\"></a></figure></p>\\n</div>\\n\\n\\n<p>There\\'s one very useful side of the classification — anomaly detection. When a feature does not fit any of the classes, we highlight it. Now that\\'s used in medicine — on MRIs, computers highlight all the suspicious areas or deviations of the test. Stock markets use it to detect abnormal behaviour of traders to find the insiders. When teaching the computer the right things, we automatically teach it what things are wrong.</p>\\n\\n<p>Today, neural networks are more frequently used for classification. Well, that\\'s what they were created for.</p>\\n\\n<p><strong>The rule of thumb is the more complex the data, the more complex the algorithm.</strong> For text, numbers, and tables, I\\'d choose the classical approach. The models are smaller there, they learn faster and work more clearly. For pictures, video and all other complicated big data things, I\\'d definitely look at neural networks.</p>\\n\\n<p>Just five years ago you could find a face classifier built on SVM. Today it\\'s easier to choose from hundreds of pre-trained networks. Nothing has changed for spam filters, though. They are still written with SVM. And there\\'s no good reason to switch from it anywhere.</p>\\n\\n<p>Even my website has SVM-based spam detection in comments ¯_(ツ)_/¯</p>\\n\\n</div>\\n\\n<div id=\"\" class=\"block-text\"><h2 id=\"scroll80\"><a href=\"#scroll80\">Regression</a></h2>\\n\\n<div id=\"\" class=\"block-side block-side__right\">\\n<p><figure><a href=\"https://i.vas3k.ru/7qy.jpg\"><img src=\"https://i.vas3k.ru/7qy.jpg\" alt=\"\"></a></figure></p>\\n</div>\\n\\n\\n<p><em>\"Draw a line through these dots. Yep, that\\'s the machine learning\"</em></p>\\n\\n<p>Today this is used for:</p>\\n<ul>\\n<li>Stock price forecasts</li>\\n<li>Demand and sales volume analysis</li>\\n<li>Medical diagnosis</li>\\n<li>Any number-time correlations</li>\\n</ul>\\n\\n<p>Popular algorithms are <a href=\"https://en.wikipedia.org/wiki/Linear_regression\" target=\"_blank\">Linear</a> and <a href=\"https://en.wikipedia.org/wiki/Polynomial_regression\" target=\"_blank\">Polynomial</a> regressions.</p>\\n\\n</div>\\n\\n<div id=\"\" class=\"block-text\">\\n<p>Regression is basically classification where we forecast a number instead of category. Examples are car price by its mileage, traffic by time of the day, demand volume by growth of the company etc. Regression is perfect when something depends on time.</p>\\n\\n<p>Everyone who works with finance and analysis loves regression. It\\'s even built-in to Excel. And it\\'s super smooth inside — the machine simply tries to draw a line that indicates average correlation. Though, unlike a person with a pen and a whiteboard, machine does so with mathematical accuracy, calculating the average interval to every dot.</p>\\n\\n\\n<div id=\"\" class=\"block-media block-media__body\">\\n<p><figure><a href=\"https://i.vas3k.ru/7w5.jpg\"><img src=\"https://i.vas3k.ru/7w5.jpg\" alt=\"\"></a></figure></p>\\n</div>\\n\\n\\n<p>When the line is straight — it\\'s a linear regression, when it\\'s curved – polynomial. These are two major types of regression. The other ones are more exotic. Logistic regression is a black sheep in the flock. Don\\'t let it trick you, as it\\'s a classification method, not regression.</p>\\n\\n<p>It\\'s okay to mess with regression and classification, though. Many classifiers turn into regression after some tuning. We can not only define the class of the object but memorize how close it is. Here comes a regression.</p>\\n<div class=\"block-cite\">\\n<p>If you want to get deeper into this, check these series: <a href=\"https://medium.com/machine-learning-for-humans/supervised-learning-740383a2feab\" target=\"_blank\">Machine Learning for Humans</a>. I really love and recommend it!</p>\\n</div>\\n\\n\\n</div>\\n\\n<div id=\"\" class=\"block-text\"><h1 id=\"scroll90\"><a href=\"#scroll90\">1.2 Unsupervised learning</a></h1>\\n<p>Unsupervised was invented a bit later, in the \\'90s. It is used less often, but sometimes we simply have no choice.</p>\\n\\n<p>Labeled data is luxury. But what if I want to create, let\\'s say, a bus classifier? Should I manually take photos of million fucking buses on the streets and label each of them? No way, that will take a lifetime, and I still have so many games not played on my Steam account.</p>\\n\\n<p>There\\'s a little hope for capitalism in this case. Thanks to social stratification, we have millions of cheap workers and services like <a href=\"https://www.mturk.com/\" target=\"_blank\">Mechanical Turk</a> who are ready to complete your task for $0.05. And that\\'s how things usually get done here.</p>\\n\\n<p>Or you can try to use unsupervised learning. But I can\\'t remember any good practical application for it, though. It\\'s usually useful for <a href=\"https://en.wikipedia.org/wiki/Exploratory_data_analysis\" target=\"_blank\">exploratory data analysis</a> but not as the main algorithm. Specially trained meatbag with Oxford degree feeds the machine with a ton of garbage and watches it. Are there any clusters? No. Any visible relations? No. Well, continue then. You wanted to work in data science, right?</p>\\n\\n</div>\\n\\n<div id=\"\" class=\"block-text\"><h2 id=\"scroll100\"><a href=\"#scroll100\">Clustering</a></h2>\\n\\n<div id=\"\" class=\"block-side block-side__right\">\\n<p><figure><a href=\"https://i.vas3k.ru/7qz.jpg\"><img src=\"https://i.vas3k.ru/7qz.jpg\" alt=\"\"></a></figure></p>\\n</div>\\n\\n\\n<p><em>\"Divides objects based on unknown features. Machine chooses the best way\"</em></p>\\n\\n<p>Nowadays used:</p>\\n<ul>\\n<li>For market segmentation (types of customers, loyalty)</li>\\n<li>To merge close points on a map</li>\\n<li>For image compression</li>\\n<li>To analyze and label new data</li>\\n<li>To detect abnormal behavior </li>\\n</ul>\\n\\n<p>Popular algorithms: <a href=\"https://en.wikipedia.org/wiki/K-means_clustering\" target=\"_blank\">K-means_clustering</a>, <a href=\"https://en.wikipedia.org/wiki/Mean_shift\" target=\"_blank\">Mean-Shift</a>, <a href=\"https://en.wikipedia.org/wiki/DBSCAN\" target=\"_blank\">DBSCAN</a></p>\\n\\n</div>\\n\\n<div id=\"\" class=\"block-text\">\\n<p>Clustering is a classification with no predefined classes. It’s like dividing socks by color when you don\\'t remember all the colors you have. Clustering algorithm trying to find similar (by some features) objects and merge them in a cluster. Those who have lots of similar features are joined in one class. With some algorithms, you even can specify the exact number of clusters you want.</p>\\n\\n<p>An excellent example of clustering — markers on web maps. When you\\'re looking for all vegan restaurants around, the clustering engine groups them to blobs with a number. Otherwise, your browser would freeze, trying to draw all three million vegan restaurants in that hipster downtown.</p>\\n\\n<p>Apple Photos and Google Photos use more complex clustering. They\\'re looking for faces in photos to create albums of your friends. The app doesn\\'t know how many friends you have and how they look, but it\\'s trying to find the common facial features. Typical clustering.</p>\\n\\n<p>Another popular issue is image compression. When saving the image to PNG you can set the palette, let\\'s say, to 32 colors. It means clustering will find all the \"reddish\" pixels, calculate the \"average red\" and set it for all the red pixels. Fewer colors — lower file size — profit!</p>\\n\\n<p>However, you may have problems with colors like Cyan<span style=\"color: #00FFFF;\">◼︎</span>-like colors. Is it green or blue? Here comes the <a href=\"https://www.youtube.com/watch?v=_aWzGGNrcic\" target=\"_blank\">K-Means</a> algorithm.</p>\\n\\n<p>It randomly sets 32 color dots in the palette. Now, those are centroids. The remaining points are marked as assigned to the nearest centroid. Thus, we get kind of galaxies around these 32 colors. Then we\\'re moving the centroid to the center of its galaxy and repeat that until centroids stop moving.</p>\\n\\n<p>All done. Clusters defined, stable, and there are exactly 32 of them. Here is a more real-world explanation:</p>\\n\\n\\n<div id=\"\" class=\"block-media block-media__body\">\\n<p><figure><a href=\"https://i.vas3k.ru/7w6.jpg\"><img src=\"https://i.vas3k.ru/7w6.jpg\" alt=\"\"></a></figure></p>\\n</div>\\n\\n\\n<p>Searching for the centroids is convenient. Though, in real life clusters not always circles. Let\\'s imagine you\\'re a geologist. And you need to find some similar minerals on the map. In that case, the clusters can be weirdly shaped and even nested. Also, you don\\'t even know how many of them to expect. 10? 100?</p>\\n\\n<p>K-means does not fit here, but <a href=\"https://towardsdatascience.com/how-dbscan-works-and-why-should-i-use-it-443b4a191c80\" target=\"_blank\">DBSCAN</a> can be helpful. Let\\'s say, our dots are people at the town square. Find any three people standing close to each other and ask them to hold hands. Then, tell them to start grabbing hands of those neighbors they can reach. And so on, and so on until no one else can take anyone\\'s hand. That\\'s our first cluster. Repeat the process until everyone is clustered. Done.</p>\\n<div class=\"block-cite\">\\n<p>A nice bonus: a person who has no one to hold hands with — is an anomaly.</p>\\n</div>\\n\\n\\n<p>It all looks cool in motion:</p>\\n\\n\\n<div id=\"\" class=\"block-media block-media__body\">\\n<p><figure><a href=\"https://cdn-images-1.medium.com/max/1600/1*tc8UF-h0nQqUfLC8-0uInQ.gif\"><img src=\"https://cdn-images-1.medium.com/max/1600/1*tc8UF-h0nQqUfLC8-0uInQ.gif\" alt=\"\"></a></figure></p>\\n</div>\\n\\n<div class=\"block-cite\">\\n<p>Interested in clustering? Check out this piece <a href=\"https://towardsdatascience.com/the-5-clustering-algorithms-data-scientists-need-to-know-a36d136ef68\" target=\"_blank\">The 5 Clustering Algorithms Data Scientists Need to Know</a></p>\\n</div>\\n\\n\\n<p>Just like classification, clustering could be used to detect anomalies. User behaves abnormally after signing up? Let the machine ban him temporarily and create a ticket for the support to check it. Maybe it\\'s a bot. We don\\'t even need to know what \"normal behavior\" is, we just upload all user actions to our model and let the machine decide if it\\'s a \"typical\" user or not.</p>\\n\\n<p>This approach doesn\\'t work that well compared to the classification one, but it never hurts to try.</p>\\n\\n</div>\\n\\n<div id=\"\" class=\"block-text\"><h2 id=\"scroll110\"><a href=\"#scroll110\">Dimensionality Reduction (Generalization)</a></h2>\\n\\n<div id=\"\" class=\"block-side block-side__right\">\\n<p><figure><a href=\"https://i.vas3k.ru/7r0.jpg\"><img src=\"https://i.vas3k.ru/7r0.jpg\" alt=\"\"></a></figure></p>\\n</div>\\n\\n\\n<p><em>\"Assembles specific features into more high-level ones\"</em></p>\\n\\n<p>Nowadays is used for:</p>\\n<ul>\\n<li>Recommender systems (★)</li>\\n<li>Beautiful visualizations</li>\\n<li>Topic modeling and similar document search</li>\\n<li>Fake image analysis</li>\\n<li>Risk management</li>\\n</ul>\\n\\n<p>Popular algorithms: <a href=\"https://en.wikipedia.org/wiki/Principal_component_analysis\" target=\"_blank\">Principal Component Analysis</a> (PCA), <a href=\"https://en.wikipedia.org/wiki/Singular_value_decomposition\" target=\"_blank\">Singular Value Decomposition</a> (SVD), <a href=\"https://en.wikipedia.org/wiki/Latent_Dirichlet_allocation\" target=\"_blank\">Latent Dirichlet allocation</a> (LDA), <a href=\"https://en.wikipedia.org/wiki/Probabilistic_latent_semantic_analysis\" target=\"_blank\">Latent Semantic Analysis</a> (LSA, pLSA, GLSA), <a href=\"https://en.wikipedia.org/wiki/T-distributed_stochastic_neighbor_embedding\" target=\"_blank\">t-SNE</a> (for visualization)</p>\\n\\n</div>\\n\\n<div id=\"\" class=\"block-text\">\\n<p>Previously these methods were used by hardcore data scientists, who had to find \"something interesting\" in huge piles of numbers. When Excel charts didn\\'t help, they forced machines to do the pattern-finding. That\\'s how they got Dimension Reduction or Feature Learning methods.</p>\\n\\n\\n<div id=\"\" class=\"block-side block-side__right\">\\n<p><figure><a href=\"https://i.stack.imgur.com/Q7HIP.gif\"><img src=\"https://i.stack.imgur.com/Q7HIP.gif\" alt=\"\"></a><figcaption>Projecting 2D-data to a line (PCA)</figcaption></figure></p>\\n</div>\\n\\n\\n<p>It is always more convenient for people to use abstractions, not a bunch of fragmented features. For example, we can merge all dogs with triangle ears, long noses, and big tails to a nice abstraction — \"shepherd\". Yes, we\\'re losing some information about the specific shepherds, but the new abstraction is much more useful for naming and explaining purposes. As a bonus, such \"abstracted\" models learn faster, overfit less and use a lower number of features.</p>\\n\\n<p>These algorithms became an amazing tool for <span class=\"starting\">Topic Modeling</span>. We can abstract from specific words to their meanings. This is what <a href=\"https://en.wikipedia.org/wiki/Latent_semantic_analysis\" target=\"_blank\">Latent semantic analysis</a> (LSA) does. It is based on how frequently you see the word on the exact topic. Like, there are more tech terms in tech articles, for sure. The names of politicians are mostly found in political news, etc.</p>\\n\\n<p>Yes, we can just make clusters from all the words at the articles, but we will lose all the important connections (for example the same meaning of <em>battery</em> and <em>accumulator</em> in different documents). LSA will handle it properly, that\\'s why its called \"latent semantic\".</p>\\n\\n<p>So we need to connect the words and documents into one feature to keep these latent connections — it turns out that <a href=\"https://en.wikipedia.org/wiki/Singular_value_decomposition\" target=\"_blank\">Singular decomposition</a> (SVD) nails this task, revealing useful topic clusters from seen-together words.</p>\\n\\n\\n<div id=\"\" class=\"block-media block-media__body\">\\n<p><figure><a href=\"https://i.vas3k.ru/7w7.jpg\"><img src=\"https://i.vas3k.ru/7w7.jpg\" alt=\"\"></a></figure></p>\\n</div>\\n\\n\\n<p><span class=\"starting\">Recommender Systems and Collaborative Filtering</span> is another super-popular use of the dimensionality reduction method. Seems like if you use it to abstract user ratings, you get a great system to recommend movies, music, games and whatever you want.</p>\\n<div class=\"block-cite\">\\n<p>Here I can recommend my favorite book \"<a href=\"http://shop.oreilly.com/product/9780596529321.do\" target=\"_blank\">Programming Collective Intelligence</a>\". It was my bedside book while studying at university!</p>\\n</div>\\n\\n\\n<p>It\\'s barely possible to fully understand this machine abstraction, but it\\'s possible to see some correlations on a closer look. Some of them correlate with user\\'s age — kids play Minecraft and watch cartoons more; others correlate with movie genre or user hobbies.</p>\\n\\n<p>Machines get these high-level concepts even without understanding them, based only on knowledge of user ratings. Nicely done, Mr.Computer. Now we can write a thesis on why bearded lumberjacks love My Little Pony.</p>\\n\\n</div>\\n\\n<div id=\"\" class=\"block-text\"><h2 id=\"scroll120\"><a href=\"#scroll120\">Association rule learning</a></h2>\\n\\n<div id=\"\" class=\"block-side block-side__right\">\\n<p><figure><a href=\"https://i.vas3k.ru/7r1.jpg\"><img src=\"https://i.vas3k.ru/7r1.jpg\" alt=\"\"></a></figure></p>\\n</div>\\n\\n\\n<p><em>\"Look for patterns in the orders\\' stream\"</em></p>\\n\\n<p>Nowadays is used:</p>\\n<ul>\\n<li>To forecast sales and discounts</li>\\n<li>To analyze goods bought together</li>\\n<li>To place the products on the shelves</li>\\n<li>To analyze web surfing patterns</li>\\n</ul>\\n\\n<p>Popular algorithms: <a href=\"https://en.wikipedia.org/wiki/Association_rule_learning#Algorithms\" target=\"_blank\">Apriori, Euclat, FP-growth</a></p>\\n\\n</div>\\n\\n<div id=\"\" class=\"block-text\">\\n<p>This includes all the methods to analyze shopping carts, automate marketing strategy, and other event-related tasks. When you have a sequence of something and want to find patterns in it — try these thingys.</p>\\n\\n<p>Say, a customer takes a six-pack of beers and goes to the checkout. Should we place peanuts on the way? How often do people buy them together? Yes, it probably works for beer and peanuts, but what other sequences can we predict? Can a small change in the arrangement of goods lead to a significant increase in profits?</p>\\n\\n<p>Same goes for e-commerce. The task is even more interesting there — what is the customer going to buy next time?</p>\\n\\n<p>No idea why rule-learning seems to be the least elaborated upon category of machine learning. Classical methods are based on a head-on look through all the bought goods using trees or sets. Algorithms can only search for patterns, but cannot generalize or reproduce those on new examples.</p>\\n\\n<p>In the real world, every big retailer builds their own proprietary solution, so nooo revolutions here for you. The highest level of tech here — recommender systems. Though, I may be not aware of a breakthrough in the area. Let me know in the comments if you have something to share.</p>\\n\\n\\n<div id=\"\" class=\"block-media block-media__body\">\\n<p><figure><a href=\"https://i.vas3k.ru/810.jpg\"><img src=\"https://i.vas3k.ru/810.jpg\" alt=\"\"></a></figure></p>\\n</div>\\n\\n\\n</div>\\n\\n<h1 id=\"scroll130\"><a href=\"#scroll130\">Part 2. Reinforcement Learning</a></h1><div id=\"\" class=\"block-text\">\\n\\n<div id=\"\" class=\"block-side block-side__right\">\\n<p><figure><a href=\"https://i.vas3k.ru/7r2.jpg\"><img src=\"https://i.vas3k.ru/7r2.jpg\" alt=\"\"></a></figure></p>\\n</div>\\n\\n\\n<p><em>\"Throw a robot into a maze and let it find an exit\"</em></p>\\n\\n<p>Nowadays used for:</p>\\n<ul>\\n<li>Self-driving cars</li>\\n<li>Robot vacuums</li>\\n<li>Games</li>\\n<li>Automating trading</li>\\n<li>Enterprise resource management</li>\\n</ul>\\n\\n<p>Popular algorithms: <a href=\"https://en.wikipedia.org/wiki/Q-learning\" target=\"_blank\">Q-Learning</a>, <a href=\"https://en.wikipedia.org/wiki/State–action–reward–state–action\" target=\"_blank\">SARSA</a>, DQN, <a href=\"https://medium.com/emergent-future/simple-reinforcement-learning-with-tensorflow-part-8-asynchronous-actor-critic-agents-a3c-c88f72a5e9f2\" target=\"_blank\">A3C</a>, <a href=\"https://en.wikipedia.org/wiki/Genetic_algorithm\" target=\"_blank\">Genetic algorithm</a></p>\\n\\n</div>\\n\\n<div id=\"\" class=\"block-text\">\\n<p>Finally, we get to something looks like <em>real artificial intelligence</em>. In lots of articles reinforcement learning is placed somewhere in between of supervised and unsupervised learning. They have nothing in common! Is this because of the name?</p>\\n\\n<p>Reinforcement learning is used in cases when your problem is not related to data at all, but you have an environment to live in. Like a video game world or a city for self-driving car.</p>\\n<div class=\"block-side block-side__right\" style=\"max-width: 300px;\">\\n    <iframe width=\"300\" height=\"169\" src=\"https://www.youtube.com/embed/qv6UVOQ0F44\" frameborder=\"0\" allowfullscreen=\"\"></iframe>\\n    <small>Neural network plays Mario</small>\\n</div>\\n<p>Knowledge of all the road rules in the world will not teach the autopilot how to drive on the roads. Regardless of how much data we collect, we still can\\'t foresee all the possible situations. This is why its goal is to <strong>minimize error, not to predict all the moves</strong>.</p>\\n\\n<p>Surviving in an environment is a core idea of reinforcement learning. Throw poor little robot into real life, punish it for errors and reward it for right deeds. Same way we teach our kids, right?</p>\\n\\n<p>More effective way here — to build a virtual city and let self-driving car to learn all its tricks there first. That\\'s exactly how we train auto-pilots right now. Create a virtual city based on a real map, populate with pedestrians and let the car learn to kill as few people as possible. When the robot is reasonably confident in this artificial GTA, it\\'s freed to test in the real streets. Fun!</p>\\n\\n<p>There may be two different approaches — <strong>Model-Based and Model-Free</strong>.</p>\\n\\n<p>Model-Based means that car needs to memorize a map or its parts. That\\'s a pretty outdated approach since it\\'s impossible for the poor self-driving car to memorize the whole planet.</p>\\n\\n<p>In Model-Free learning, the car doesn\\'t memorize every movement but tries to generalize situations and act rationally while obtaining a maximum reward.</p>\\n\\n\\n<div id=\"\" class=\"block-media block-media__body\">\\n<p><figure><a href=\"https://i.vas3k.ru/7w9.jpg\"><img src=\"https://i.vas3k.ru/7w9.jpg\" alt=\"\"></a></figure></p>\\n</div>\\n\\n\\n<p>Remember the news about <a href=\"https://www.wired.com/2016/01/in-a-huge-breakthrough-googles-ai-beats-a-top-player-at-the-game-of-go/\" target=\"_blank\">AI beating a top player at the game of Go</a>? Despite shortly before this it being <a href=\"https://motherboard.vice.com/en_us/article/vv7ejx/after-2500-years-a-chinese-gaming-mystery-is-solved\" target=\"_blank\">proved</a> that the number of combinations in this game is greater than the number of atoms in the universe.</p>\\n\\n<p>This means the machine could not remember all the combinations and thereby win Go (as it did chess). At each turn, it simply chose the best move for each situation, and it did well enough to outplay a human meatbag.</p>\\n\\n<p>This approach is a core concept behind <a href=\"https://www.youtube.com/watch?v=aCEvtRtNO-M\" target=\"_blank\">Q-learning</a> and its derivatives (SARSA &amp; DQN). \\'Q\\' in the name stands for \"Quality\" as a robot learns to perform the most \"qualitative\" action in each situation and all the situations are memorized as a simple <a href=\"https://en.wikipedia.org/wiki/Markov_process\" target=\"_blank\">markovian process</a>.</p>\\n\\n\\n<div id=\"\" class=\"block-media block-media__body\">\\n<p><figure><a href=\"https://i.vas3k.ru/7wa.jpg\"><img src=\"https://i.vas3k.ru/7wa.jpg\" alt=\"\"></a></figure></p>\\n</div>\\n\\n\\n<p>Such a machine can test billions of situations in a virtual environment, remembering which solutions led to greater reward. But how can it distinguish previously seen situations from a completely new one? If a self-driving car is at a road crossing and the traffic light turns green — does it mean it can go now? What if there\\'s an ambulance rushing through a street nearby?</p>\\n\\n<p>The answer today is \"no one knows\". There\\'s no easy answer. Researchers are constantly searching for it but meanwhile only finding workarounds. Some would hardcode all the situations manually that let them solve exceptional cases, like the <a href=\"https://en.wikipedia.org/wiki/Trolley_problem\" target=\"_blank\">trolley problem</a>. Others would go deep and let neural networks do the job of figuring it out. This led us to the evolution of Q-learning called Deep Q-Network (DQN). But they are not a silver bullet either.</p>\\n\\n<p>Reinforcement Learning for an average person would look like a <em>real artificial intelligence</em>. Because it makes you think <em>wow, this machine is making decisions in real life situations</em>! This topic is hyped right now, it\\'s advancing with incredible pace and intersecting with a neural network to clean your floor more accurately. Amazing world of technologies!</p>\\n<hr>\\n\\n<p><strong>Off-topic.</strong> When I was a student, <a href=\"http://rednuht.org/genetic_walkers/\" target=\"_blank\">genetic algorithms</a> (link has cool visualization) were really popular. This is about throwing a bunch of robots into a single environment and making them try reaching the goal until they die. Then we pick the best ones, cross them, mutate some genes and rerun the simulation. After a few <a href=\"http://mathworld.wolfram.com/Milliard.html\" target=\"_blank\">milliard</a> years, we will get an intelligent creature. Probably. Evolution at its finest.</p>\\n\\n<p>Genetic algorithms are considered as part of reinforcement learning and they have the most important feature proved by decade-long practice: no one gives a shit about them.</p>\\n\\n<p>Humanity still couldn\\'t come up with a task where those would be more effective than other methods. But they are great for student experiments and let people get their university supervisors excited about \"artificial intelligence\" without too much labour. And youtube would love it as well.</p>\\n\\n</div>\\n\\n<h1 id=\"scroll140\"><a href=\"#scroll140\">Part 3. Ensemble Methods</a></h1><div id=\"\" class=\"block-text\">\\n\\n<div id=\"\" class=\"block-side block-side__right\">\\n<p><figure><a href=\"https://i.vas3k.ru/7r3.jpg\"><img src=\"https://i.vas3k.ru/7r3.jpg\" alt=\"\"></a></figure></p>\\n</div>\\n\\n\\n<p><em>\"Bunch of stupid trees learning to correct errors of each other\"</em></p>\\n\\n<p>Nowadays is used for:</p>\\n<ul>\\n<li>Everything that fits classical algorithm approaches (but works better)</li>\\n<li>Search systems (★)</li>\\n<li>Computer vision</li>\\n<li>Object detection</li>\\n</ul>\\n\\n<p>Popular algorithms: <a href=\"https://en.wikipedia.org/wiki/Random_forest\" target=\"_blank\">Random Forest</a>, <a href=\"https://en.wikipedia.org/wiki/Gradient_boosting\" target=\"_blank\">Gradient Boosting</a></p>\\n\\n</div>\\n\\n<div id=\"\" class=\"block-text\">\\n<p>It\\'s time for modern, grown-up methods. Ensembles and neural networks are two main fighters paving our path to a singularity. Today they are producing the most accurate results and are widely used in production.</p>\\n\\n<p>However, the neural networks got all the hype today, while the words like \"boosting\" or \"bagging\" are scarce hipsters on TechCrunch.</p>\\n\\n<p>Despite all the effectiveness the idea behind these is overly simple. If you take a bunch of inefficient algorithms and force them to correct each other\\'s mistakes, the overall quality of a system will be higher than even the best individual algorithms.</p>\\n\\n<p>You\\'ll get even better results if you take the most unstable algorithms that are predicting completely different results on small noise in input data. Like Regression and Decision Trees. These algorithms are so sensitive to even a single outlier in input data to have models go mad.</p>\\n\\n<p>In fact, this is what we need.</p>\\n\\n<p>We can use any algorithm we know to create an ensemble. Just throw a bunch of classifiers, spice it up with regression and don\\'t forget to measure accuracy. From my experience: don\\'t even try a Bayes or kNN here. Although \"dumb\", they are really stable. That\\'s boring and predictable. Like your ex.</p>\\n\\n<p>Instead, there are three battle-tested methods to create ensembles.</p>\\n\\n<p><span class=\"starting\">Stacking</span> Output of several parallel models is passed as input to the last one which makes a final decision. Like that girl who asks her girlfriends whether to meet with you in order to make the final decision herself.</p>\\n\\n\\n<div id=\"\" class=\"block-media block-media__body\">\\n<p><figure><a href=\"https://i.vas3k.ru/7wb.jpg\"><img src=\"https://i.vas3k.ru/7wb.jpg\" alt=\"\"></a></figure></p>\\n</div>\\n\\n\\n<p>Emphasis here on the word \"different\". Mixing the same algorithms on the same data would make no sense. The choice of algorithms is completely up to you. However, for final decision-making model, regression is usually a good choice.</p>\\n\\n<p>Based on my experience stacking is less popular in practice, because two other methods are giving better accuracy.</p>\\n\\n<p><span class=\"starting\">Bagging</span> aka <a href=\"https://en.wikipedia.org/wiki/Bootstrap_aggregating\" target=\"_blank\">Bootstrap AGGregatING</a>. Use the same algorithm but train it on different subsets of original data. In the end — just average answers.</p>\\n\\n<p>Data in random subsets may repeat. For example, from a set like \"1-2-3\" we can get subsets like \"2-2-3\", \"1-2-2\", \"3-1-2\" and so on. We use these new datasets to teach the same algorithm several times and then predict the final answer via simple majority voting.</p>\\n\\n\\n<div id=\"\" class=\"block-media block-media__body\">\\n<p><figure><a href=\"https://i.vas3k.ru/7wd.jpg\"><img src=\"https://i.vas3k.ru/7wd.jpg\" alt=\"\"></a></figure></p>\\n</div>\\n\\n\\n<p>The most famous example of bagging is the <a href=\"https://www.youtube.com/watch?v=J4Wdy0Wc_xQ\" target=\"_blank\">Random Forest</a> algorithm, which is simply bagging on the decision trees (which were illustrated above). When you open your phone\\'s camera app and see it drawing boxes around people\\'s faces — it\\'s probably the results of Random Forest work. Neural networks would be too slow to run real-time yet bagging is ideal given it can calculate trees on all the shaders of a video card or on these new fancy ML processors.</p>\\n\\n<p>In some tasks, the ability of the Random Forest to run in parallel is more important than a small loss in accuracy to the boosting, for example. Especially in real-time processing. There is always a trade-off.</p>\\n\\n\\n<div id=\"\" class=\"block-media block-media__body\">\\n<p><figure><a href=\"https://i.vas3k.ru/7rq.jpg\"><img src=\"https://i.vas3k.ru/7rq.jpg\" alt=\"\"></a></figure></p>\\n</div>\\n\\n\\n<p><span class=\"starting\">Boosting</span> Algorithms are trained one by one sequentially. Each subsequent one paying most of its attention to data points that were mispredicted by the previous one. Repeat until you are happy.</p>\\n\\n<p>Same as in bagging, we use subsets of our data but this time they are not randomly generated. Now, in each subsample we take a part of the data the previous algorithm failed to process. Thus, we make a new algorithm learn to fix the errors of the previous one.</p>\\n\\n\\n<div id=\"\" class=\"block-media block-media__body\">\\n<p><figure><a href=\"https://i.vas3k.ru/7we.jpg\"><img src=\"https://i.vas3k.ru/7we.jpg\" alt=\"\"></a></figure></p>\\n</div>\\n\\n\\n<p>The main advantage here — a very high, even illegal in some countries precision of classification that all cool kids can envy. The cons were already called out — it doesn\\'t parallelize. But it\\'s still faster than neural networks. It\\'s like a race between a dump truck and a racecar. The truck can do more, but if you want to go fast — take a car.</p>\\n\\n<p>If you want a real example of boosting — open Facebook or Google and start typing in a search query. Can you hear an army of trees roaring and smashing together to sort results by relevancy? That\\'s because <a href=\"https://code.fb.com/ml-applications/evaluating-boosted-decision-trees-for-billions-of-users/\" target=\"_blank\">they are using boosting</a>.</p>\\n<div class=\"block-cite\">\\n<p>Nowadays there are three popular tools for boosting, you can read a comparative report in <a href=\"https://towardsdatascience.com/catboost-vs-light-gbm-vs-xgboost-5f93620723db\" target=\"_blank\">CatBoost vs. LightGBM vs. XGBoost</a></p>\\n</div>\\n\\n\\n</div>\\n\\n<h1 id=\"scroll150\"><a href=\"#scroll150\">Part 4. Neural Networks and Deep Leaning</a></h1><div id=\"\" class=\"block-text\">\\n\\n<div id=\"\" class=\"block-side block-side__right\">\\n<p><figure><a href=\"https://i.vas3k.ru/7r4.jpg\"><img src=\"https://i.vas3k.ru/7r4.jpg\" alt=\"\"></a></figure></p>\\n</div>\\n\\n\\n<p><em>\"We have a thousand-layer network, dozens of video cards, but still no idea where to use it. Let\\'s generate cat pics!\"</em></p>\\n\\n<p>Used today for:</p>\\n<ul>\\n<li>Replacement of all algorithms above</li>\\n<li>Object identification on photos and videos</li>\\n<li>Speech recognition and synthesis</li>\\n<li>Image processing, style transfer</li>\\n<li>Machine translation</li>\\n</ul>\\n\\n<p>Popular architectures: <a href=\"https://en.wikipedia.org/wiki/Perceptron\" target=\"_blank\">Perceptron</a>, <a href=\"https://en.wikipedia.org/wiki/Convolutional_neural_network\" target=\"_blank\">Convolutional Network</a> (CNN), <a href=\"https://en.wikipedia.org/wiki/Recurrent_neural_network\" target=\"_blank\">Recurrent Networks</a> (RNN), <a href=\"https://en.wikipedia.org/wiki/Autoencoder\" target=\"_blank\">Autoencoders</a></p>\\n\\n</div>\\n\\n<div id=\"\" class=\"block-text\">\\n<p>If no one has ever tried to explain neural networks to you using \"human brain\" analogies, you\\'re happy. Tell me your secret. But first, let me explain it the way I like.</p>\\n\\n<p>Any neural network is basically a collection of <strong>neurons</strong> and <strong>connections</strong> between them. <strong>Neuron</strong> is a function with a bunch of inputs and one output. Its task is to take all numbers from its input, perform a function on them and send the result to the output.</p>\\n\\n<p>Here is an example of a simple but useful in real life neuron: sum up all numbers from the inputs and if that sum is bigger than N — give 1 as a result. Otherwise — zero.</p>\\n\\n<p><strong>Connections</strong> are like channels between neurons. They connect outputs of one neuron with the inputs of another so they can send digits to each other. Each connection has only one parameter — weight. It\\'s like a connection strength for a signal. When the number 10 passes through a connection with a weight 0.5 it turns into 5.</p>\\n\\n<p>These weights tell the neuron to respond more to one input and less to another. Weights are adjusted when training — that\\'s how the network learns. Basically, that\\'s all there is to it.</p>\\n\\n\\n<div id=\"\" class=\"block-media block-media__body\">\\n<p><figure><a href=\"https://i.vas3k.ru/7wf.jpg\"><img src=\"https://i.vas3k.ru/7wf.jpg\" alt=\"\"></a></figure></p>\\n</div>\\n\\n\\n<p>To prevent the network from falling into anarchy, the neurons are linked by layers, not randomly. Within a layer neurons are not connected, but they are connected to neurons of the next and previous layers. Data in the network goes strictly in one direction — from the inputs of the first layer to the outputs of the last.</p>\\n\\n<p>If you throw in a sufficient number of layers and put the weights correctly, you will get the following: by applying to the input, say, the image of handwritten digit 4, black pixels activate the associated neurons, they activate the next layers, and so on and on, until it finally lights up the exit in charge of the four. The result is achieved.</p>\\n\\n\\n<div id=\"\" class=\"block-media block-media__body\">\\n<p><figure><a href=\"https://i.vas3k.ru/7wg.jpg\"><img src=\"https://i.vas3k.ru/7wg.jpg\" alt=\"\"></a></figure></p>\\n</div>\\n\\n\\n<p>When doing real-life programming nobody is writing neurons and connections. Instead, everything is represented as matrices and calculated based on matrix multiplication for better performance. My favourite video on this and its sequel below describe the whole process in an easily digestible way using the example of recognizing hand-written digits. Watch them if you want to figure this out.</p>\\n<div class=\"block-media block-media__body\">\\n    <div class=\"block-iframe\">\\n        <iframe src=\"https://www.youtube.com/embed/aircAruvnKk\" frameborder=\"0\"></iframe>\\n    </div>\\n</div><div class=\"block-cite\">\\n<p>A network that has multiple layers that have connections between every neuron is called a <a href=\"https://en.wikipedia.org/wiki/Multilayer_perceptron\" target=\"_blank\">perceptron</a> (MLP) and considered the simplest architecture for a novice. I didn\\'t see it used for solving tasks in production.</p>\\n</div>\\n\\n\\n<p>After we constructed a network, our task is to assign proper ways so neurons will react correctly to incoming signals. Now is the time to remember that we have data that is samples of \\'inputs\\' and proper \\'outputs\\'. We will be showing our network a drawing of the same digit 4 and tell it \\'adapt your weights so whenever you see this input your output would emit 4\\'.</p>\\n\\n<p>To start with, all weights are assigned randomly. After we show it a digit it emits a random answer because the weights are not correct yet, and we compare how much this result differs from the right one. Then we start traversing network backward from outputs to inputs and tell every neuron \\'hey, you did activate here but you did a terrible job and everything went south from here downwards, let\\'s keep less attention to this connection and more of that one, mkay?\\'.</p>\\n\\n<p>After hundreds of thousands of such cycles of \\'infer-check-punish\\', there is a hope that the weights are corrected and act as intended. The science name for this approach is <a href=\"https://en.wikipedia.org/wiki/Backpropagation\" target=\"_blank\">Backpropagation</a>, or a \\'method of backpropagating an error\\'. Funny thing it took twenty years to come up with this method. Before this we still taught neural networks somehow.</p>\\n\\n<p>My second favorite vid is describing this process in depth, but it\\'s still very accessible.</p>\\n<div class=\"block-media block-media__body\">\\n    <div class=\"block-iframe\">\\n        <iframe src=\"https://www.youtube.com/embed/IHZwWFHWa-w\" frameborder=\"0\"></iframe>\\n    </div>\\n</div>\\n<p>A well trained neural network can fake the work of any of the algorithms described in this chapter (and frequently works more precisely). This universality is what made them widely popular. <em>Finally we have an architecture of human brain</em> they said <em>we just need to assemble lots of layers and teach them on any possible data</em> they hoped. Then the first <a href=\"https://en.wikipedia.org/wiki/AI_winter\" target=\"_blank\">AI winter</a> started, then it thawed, and then another wave of disappointment hit.</p>\\n\\n<p>It turned out networks with a large number of layers required computation power unimaginable at that time. Nowadays any gamer PC with geforces outperforms the datacenters of that time. So people didn\\'t have any hope then to acquire computation power like that and neural networks were a huge bummer.</p>\\n\\n<p>And then ten years ago deep learning rose.</p>\\n<div class=\"block-cite\">\\n<p>There\\'s a nice <a href=\"https://en.wikipedia.org/wiki/Timeline_of_machine_learning\" target=\"_blank\">Timeline of machine learning</a> describing the rollercoaster of hopes &amp; waves of pessimism.</p>\\n</div>\\n\\n\\n<p>In 2012 convolutional neural networks acquired an <a href=\"https://habr.com/post/183380/\" target=\"_blank\">overwhelming victory in ImageNet competition</a> that made the world <em>suddenly remember</em> about methods of deep learning described in the ancient 90s. Now we have video cards!</p>\\n\\n<p>Differences of deep learning from classical neural networks were in new methods of training that could handle bigger networks. Nowadays only theoretics would try to divide which learning to consider deep and not so deep. And we, as practitioners are using popular \\'deep\\' libraries like <a href=\"https://keras.io\" target=\"_blank\">Keras</a>, <a href=\"https://github.com/tensorflow/tensorflow\" target=\"_blank\">TensorFlow</a> &amp; <a href=\"https://pytorch.org\" target=\"_blank\">PyTorch</a> even when we build a mini-network with five layers. Just because it\\'s better suited than all the tools that came before. And we just call them neural networks.</p>\\n\\n<p>I\\'ll tell about two main kinds nowadays.</p>\\n<h3 id=\"scroll160\"><a href=\"#scroll160\">Convolutional Neural Networks (CNN)</a></h3>\\n<p>Convolutional neural networks are all the rage right now. They are used to search for objects on photos and in videos, face recognition, style transfer, generating and enhancing images, creating effects like slow-mo and improving image quality. Nowadays CNNs are used in all the cases that involve pictures and videos. Even in your iPhone several of these networks are going through your nudes to detect objects in those. If there <em>is something to detect</em>, heh.</p>\\n\\n\\n<div id=\"\" class=\"block-media block-media__body\">\\n<p><figure><a href=\"https://i.vas3k.ru/7rz.jpg\"><img src=\"https://i.vas3k.ru/7rz.jpg\" alt=\"\"></a></figure></p>\\n</div>\\n\\n<div class=\"block-cite\">\\n<p>Image above is a result produced by <a href=\"https://github.com/facebookresearch/Detectron\" target=\"_blank\">Detectron</a> that was recently open-sourced by Facebook</p>\\n</div>\\n\\n\\n<p>A problem with images was always the difficulty of extracting features out of them. You can split text by sentences, lookup words\\' attributes in specialized vocabularies, etc. But images had to be labeled manually to teach the machine where cat ears or tails were in this specific image. This approach got the name \\'handcrafting features\\' and used to be used almost by everyone.</p>\\n\\n\\n<div id=\"\" class=\"block-media block-media__body\">\\n<p><figure><a href=\"https://i.vas3k.ru/7wh.jpg\"><img src=\"https://i.vas3k.ru/7wh.jpg\" alt=\"\"></a></figure></p>\\n</div>\\n\\n\\n<p>There are lots of issues with the handcrafting.</p>\\n\\n<p>First of all, if a cat had its ears down or turned away from the camera: you are in trouble, the neural network won\\'t see a thing.</p>\\n\\n<p>Secondly, try naming on the spot 10 different features that distinguish cats from other animals. I for one couldn\\'t do it, but when I see a black blob rushing past me at night — even if I only see it in the corner of my eye — I would definitely tell a cat from a rat. Because people don\\'t look only at ear form or leg count and account lots of different features they don\\'t even think about. And thus cannot explain it to the machine.</p>\\n\\n<p>So it means the machine needs to learn such features on its own, building on top of basic lines. We\\'ll do the following: first, we divide the whole image into 8x8 pixel blocks and assign to each a type of dominant line – either horizontal [-], vertical [|] or one of the diagonals [/]. It can also be that several would be highly visible — this happens and we are not always absolutely confident.</p>\\n\\n<p>Output would be several tables of sticks that are in fact the simplest features representing objects edges on the image. They are images on their own but built out of sticks. So we can once again take a block of 8x8 and see how they match together. And again and again…</p>\\n\\n<p>This operation is called convolution, which gave the name for the method. Convolution can be represented as a layer of a neural network, because each neuron can act as any function.</p>\\n\\n\\n<div id=\"\" class=\"block-media block-media__body\">\\n<p><figure><a href=\"https://i.vas3k.ru/7wj.jpg\"><img src=\"https://i.vas3k.ru/7wj.jpg\" alt=\"\"></a></figure></p>\\n</div>\\n\\n\\n<p>When we feed our neural network with lots of photos of cats it automatically assigns bigger weights to those combinations of sticks it saw the most frequently. It doesn\\'t care whether it was a straight line of a cat\\'s back or a geometrically complicated object like a cat\\'s face, something will be highly activating.</p>\\n\\n<p>As the output, we would put a simple perceptron which will look at the most activated combinations and based on that differentiate cats from dogs.</p>\\n\\n\\n<div id=\"\" class=\"block-side block-side__right\">\\n<p><figure><a href=\"https://i.vas3k.ru/74s.jpg\"><img src=\"https://i.vas3k.ru/74s.jpg\" alt=\"\"></a></figure></p>\\n</div>\\n\\n\\n<p>The beauty of this idea is that we have a neural net that searches for the most distinctive features of the objects on its own. We don\\'t need to pick them manually. We can feed it any amount of images of any object just by googling billions of images with it and our net will create feature maps from sticks and learn to differentiate any object on its own.</p>\\n\\n<p>For this I even have a handy unfunny joke:</p>\\n<blockquote>\\n<p>Give your neural net a fish and it will be able to detect fish for the rest of its life. Give your neural net a fishing rod and it will be able to detect fishing rods for the rest of its life…</p>\\n</blockquote>\\n<h3 id=\"scroll170\"><a href=\"#scroll170\">Recurrent Neural Networks (RNN)</a></h3>\\n<p>The second most popular architecture today. Recurrent networks gave us useful things like neural machine translation (<a href=\"https://vas3k.com/blog/machine_translation/\" target=\"_blank\">here is my post about it</a>), speech recognition and voice synthesis in smart assistants. RNNs are the best for sequential data like voice, text or music.</p>\\n\\n<p>Remember Microsoft Sam, the old-school speech synthesizer from Windows XP? That funny guy builds words letter by letter, trying to glue them up together. Now, look at Amazon Alexa or Assistant from Google. They don\\'t only say the words clearly, they even place the right accents!</p>\\n<div class=\"block-side block-side__right\" style=\"max-width: 300px;\">\\n    <iframe width=\"300\" height=\"169\" src=\"https://www.youtube.com/embed/NG-LATBZNBs\" frameborder=\"0\" allowfullscreen=\"\"></iframe>\\n    <small>Neural Net is trying to speak</small>\\n</div>\\n<p>All because modern voice assistants are trained to speak not letter by letter, but on whole phrases at once. We can take a bunch of voiced texts and train a neural network to generate an audio-sequence closest to the original speech.</p>\\n\\n<p>In other words, we use text as input and its audio as the desired output. We ask a neural network to generate some audio for the given text, then compare it with the original, correct errors and try to get as close as possible to ideal.</p>\\n\\n<p>Sounds like a classical learning process. Even a perceptron is suitable for this. But how should we define its outputs? Firing one particular output for each possible phrase is not an option — obviously.</p>\\n\\n<p>Here we\\'ll be helped by the fact that text, speech or music are sequences. They consist of consecutive units like syllables. They all sound unique but depend on previous ones. Lose this connection and you get dubstep.</p>\\n\\n<p>We can train the perceptron to generate these unique sounds, but how will it remember previous answers? So the idea is to add memory to each neuron and use it as an additional input on the next run. A neuron could make a note for itself - hey, we had a vowel here, the next sound should sound higher (it\\'s a very simplified example).</p>\\n\\n<p>That\\'s how recurrent networks appeared.</p>\\n\\n\\n<div id=\"\" class=\"block-media block-media__body\">\\n<p><figure><a href=\"https://i.vas3k.ru/7wk.jpg\"><img src=\"https://i.vas3k.ru/7wk.jpg\" alt=\"\"></a></figure></p>\\n</div>\\n\\n\\n<p>This approach had one huge problem - when all neurons remembered their past results, the number of connections in the network became so huge that it was technically impossible to adjust all the weights.</p>\\n\\n<p>When a neural network can\\'t forget, it can\\'t learn new things (people have the same flaw).</p>\\n\\n<p>The first decision was simple: limit the neuron memory. Let\\'s say, to memorize no more than 5 recent results. But it broke the whole idea.</p>\\n\\n<p>A much better approach came later: to use special cells, similar to computer memory. Each cell can record a number, read it or reset it. They were called long and short-term memory (LSTM) cells.</p>\\n\\n<p>Now, when a neuron needs to set a reminder, it puts a flag in that cell. Like \"it was a consonant in a word, next time use different pronunciation rules\". When the flag is no longer needed, the cells are reset, leaving only the “long-term” connections of the classical perceptron. In other words, the network is trained not only to learn weights but also to set these reminders.</p>\\n\\n<p>Simple, but it works!</p>\\n<div class=\"block-side block-side__right\" style=\"max-width: 300px;\">\\n    <iframe width=\"300\" height=\"169\" src=\"https://www.youtube.com/embed/cQ54GDm1eL0\" frameborder=\"0\" allowfullscreen=\"\"></iframe>\\n    <small>CNN + RNN = Fake Obama</small>\\n</div>\\n<p>You can take speech samples from anywhere. BuzzFeed, for example, took Obama\\'s speeches and trained a neural network to imitate his voice. As you see, audio synthesis is already a simple task. Video still has issues, but it\\'s a question of time.</p>\\n\\n\\n<div id=\"\" class=\"block-media block-media__body\">\\n<p><figure></figure></p>\\n</div>\\n\\n<hr>\\n\\n<p>There are many more network architectures in the wild. I recommend a good article called <a href=\"http://www.asimovinstitute.org/neural-network-zoo/\" target=\"_blank\">Neural Network Zoo</a>, where almost all types of neural networks are collected and briefly explained.</p>\\n\\n\\n<div id=\"\" class=\"block-media block-media__body\">\\n<p><figure><a href=\"https://i.vas3k.ru/7rx.png\"><img src=\"https://i.vas3k.ru/7rx.png\" alt=\"\"></a></figure></p>\\n</div>\\n\\n\\n<p></p>\\n\\n</div>\\n\\n<h1 id=\"scroll180\"><a href=\"#scroll180\">The End: when the war with the machines?</a></h1><div id=\"\" class=\"block-text nocomments\">\\n<p>The main problem here is that the question <em>\"when will the machines become smarter than us and enslave everyone?\"</em> is initially wrong. There are too many hidden conditions in it.</p>\\n\\n<p>We say \"become smarter than us\" like we mean that <strong>there is a certain unified scale of intelligence</strong>. The top of which is a human, dogs are a bit lower, and stupid pigeons are hanging around at the very bottom.</p>\\n\\n<p>That\\'s wrong.</p>\\n\\n<p>If this were the case, every human must beat animals in everything but it\\'s not true. The average squirrel can remember a thousand hidden places with nuts — I can\\'t even remember where are my keys.</p>\\n\\n<p>So intelligence is a set of different skills, not a single measurable value? Or is remembering nuts stashed locations not included in intelligence?</p>\\n\\n<p>An even more interesting question for me - <strong>why do we believe that the human brain possibilities are limited?</strong> There are many popular graphs on the Internet, where the technological progress is drawn as an exponent and the human possibilities are constant. But is it?</p>\\n\\n<p>Ok, multiply 1680 by 950 right now in your mind. I know you won\\'t even try, lazy bastards. But give you a calculator — you\\'ll do it in two seconds. Does this mean that the calculator just expanded the capabilities of your brain?</p>\\n\\n<p>If yes, can I continue to expand them with other machines? Like, use notes in my phone to not to remember a shitload of data? Oh, seems like I\\'m doing it right now. I\\'m expanding the capabilities of my brain with the machines.</p>\\n\\n<p>Think about it. Thanks for reading.</p>\\n\\n\\n<div id=\"\" class=\"block-media block-media__body width-50\">\\n<p><figure><a href=\"https://i.vas3k.ru/7wl.png\"><img src=\"https://i.vas3k.ru/7wl.png\" alt=\"\"></a></figure></p>\\n</div>\\n\\n\\n</div>\\n\\n\\n\\n            <div class=\"post-share\">\\n    <script type=\"text/javascript\" src=\"//s7.addthis.com/js/300/addthis_widget.js#pubid=ra-5c6c510dc9e9e17b\"></script>\\n    <div class=\"addthis_inline_share_toolbox\"></div>\\n</div>\\n\\n        </div>\\n\\n        \\n\\n<div class=\"post-footer\">\\n    <div class=\"post-footer__inside\">\\n        \\n\\n<div class=\"post-donate\">\\n    <div class=\"post-donate__header\">\\n        <big>Best way to Like my articles</big>\\n    </div>\\n\\n    <div class=\"donate-selector\">\\n        <div class=\"donate-selector__item donate-selector__item_6\" data-amount=\"1\">€1<br></div>\\n        <div class=\"donate-selector__item donate-selector__item_6 donate-selector__item_active\" data-amount=\"5\">€4.58<br></div>\\n        <div class=\"donate-selector__item donate-selector__item_6\" data-amount=\"7\">€6.99<br></div>\\n        <div class=\"donate-selector__item donate-selector__item_6\" data-amount=\"10\">€13.37<br></div>\\n        <div class=\"donate-selector__item donate-selector__item_6\" data-amount=\"other\"><small>Other</small></div>\\n    </div>\\n\\n    <div class=\"donate-amount\" id=\"donate-amount-1\">\\n        <img src=\"/static/images/donate/likes.jpg\">\\n        <strong>€1 is more than Like</strong><br>\\n        If I had a dollar for every Like on Facebook, I would have… about 6 dollars!\\n        Still better than giving all your data to Mark.\\n\\n        <div class=\"donate-service__button\">\\n            <a href=\"https://www.paypal.me/vas3kcom/1/\" target=\"_blank\"><i class=\"fab fa-paypal\"></i>&nbsp;Donate via PayPal</a>\\n        </div>\\n    </div>\\n\\n    <div class=\"donate-amount\" id=\"donate-amount-5\" style=\"display: block\">\\n        <img src=\"/static/images/donate/beers.jpg\">\\n        <strong>Don’t buy me a beer</strong><br>\\n\\n        Just support my work and nights spent on this post. With your support, I’ll be able to write and translate more cool articles like this.\\n\\n        <div class=\"donate-service__button\">\\n            <a href=\"https://www.paypal.me/vas3kcom/4.58/\" target=\"_blank\"><i class=\"fab fa-paypal\"></i>&nbsp;Donate via PayPal</a>\\n        </div>\\n    </div>\\n\\n    <div class=\"donate-amount\" id=\"donate-amount-7\">\\n        <img src=\"/static/images/donate/server.jpg\">\\n        <strong>Food for my server</strong><br>\\n\\n        You can help me pay for hosting, traffic, domain and other inevitable costs to keep this website spin.\\n\\n        <div class=\"donate-service__button\">\\n            <a href=\"https://www.paypal.me/vas3kcom/6.99/\" target=\"_blank\"><i class=\"fab fa-paypal\"></i>&nbsp;Donate via PayPal</a>\\n        </div>\\n    </div>\\n\\n    <div class=\"donate-amount\" id=\"donate-amount-10\">\\n        <img src=\"https://vas3k.ru/static/images/donate/mindset.jpg\">\\n        <strong>For the like-minded</strong><br>\\n\\n        We\\'re telling people less and less that we share their ideas. That\\'s why we all feel so lonely.\\n\\n        <div class=\"donate-service__button\">\\n            <a href=\"https://www.paypal.me/vas3kcom/13.37/\" target=\"_blank\"><i class=\"fab fa-paypal\"></i>&nbsp;Donate via PayPal</a>\\n        </div>\\n    </div>\\n\\n    <div class=\"donate-amount\" id=\"donate-amount-other\">\\n        <img src=\"/static/images/donate/other.jpg\" style=\"width: 130px;\">\\n        <strong>Other ways to support me</strong><br><br>\\n\\n        My Patreon (in Russian): <a href=\"https://www.patreon.com/vas3k\"><b>@vas3k</b></a><br><br>\\n\\n        Follow me on <a href=\"https://twitter.com/vas3kcom\"><b>Twitter</b></a> or <a href=\"https://instagram.com/vas3k\"><b>Instagram</b></a><br><br>\\n\\n        Gift me a software license: <b>me@vas3k.ru</b><br><br>\\n\\n        Send me some Bitcoins: <small>12zPEfDT9vcSw2dJDYFWtAcVBMGrWQ1PrN</small>\\n\\n        <div class=\"donate-service__button\">\\n            <a href=\"https://www.paypal.me/vas3kcom\" target=\"_blank\"><i class=\"fab fa-paypal\"></i>&nbsp;Donate via PayPal</a>\\n        </div>\\n    </div>\\n</div>\\n\\n<script>\\n    $(function() {\\n       $(\".donate-selector__item\").on(\"click\", function() {\\n           var amount = $(this).data(\"amount\");\\n            $(\".donate-selector__item\").removeClass(\"donate-selector__item_active\");\\n            $(this).addClass(\"donate-selector__item_active\");\\n            $(\".donate-amount\").hide();\\n            $(\"#donate-amount-\" + amount).fadeIn();\\n       });\\n    });\\n</script>\\n\\n        <div class=\"email-form email-form-black\" onclick=\"return goal(\\'ru.vas3k.post.subscription\\');\">\\n\\n\\n<!-- Begin Mailchimp Signup Form -->\\n<form action=\"https://vas3k.us10.list-manage.com/subscribe/post?u=5979bf5fd0f01364286923e8c&amp;id=111cd4613e\" method=\"post\" id=\"mc-embedded-subscribe-form\" name=\"mc-embedded-subscribe-form\" class=\"validate\" target=\"_blank\" novalidate>\\n    <h2 class=\"email-form-title\">New posts by e-mail</h2>\\n    <label for=\"mce-EMAIL\" class=\"email-form-description\">I rarely write, so it\\'s the best way to keep in touch. No spam or ads. I hate them even more than you do.</label>\\n    <div class=\"mc-field-group email-form-group\">\\n        <input type=\"email\" value=\"\" name=\"EMAIL\" class=\"required email\" placeholder=\"Your e-mail address\" id=\"mce-EMAIL\">\\n        <input type=\"submit\" value=\"Subscribe\" name=\"subscribe\" id=\"mc-embedded-subscribe\">\\n    </div>\\n    <div id=\"mce-responses\" class=\"clear\">\\n        <div class=\"response\" id=\"mce-error-response\" style=\"display:none\"></div>\\n        <div class=\"response\" id=\"mce-success-response\" style=\"display:none\"></div>\\n    </div>    <!-- real people should not fill this in and expect good things - do not remove this or risk form bot signups-->\\n    <div style=\"position: absolute; left: -5000px;\" aria-hidden=\"true\"><input type=\"text\" name=\"b_5979bf5fd0f01364286923e8c_111cd4613e\" tabindex=\"-1\" value=\"\"></div>\\n</form>\\n\\n<!--End mc_embed_signup-->\\n\\n</div>\\n\\n    </div>\\n</div>\\n\\n    </div>\\n\\n    <div class=\"clearfix\"></div>\\n\\n    <div class=\"comments\">\\n        \\n\\n\\n\\n\\n\\n\\n\\n\\n\\n\\n\\n\\n\\n        \\n    </div>\\n</div>\\n\\n\\n        \\n\\n<script src=\"/static/js/vendor/zoom.js\"></script>\\n<script src=\"/static/js/vendor/highlight.pack.js\"></script>\\n<script src=\"/static/js/main.js?v=0.14781519621688977\"></script>\\n<script>hljs.initHighlightingOnLoad();</script>\\n\\n<!-- Emojis for poor people -->\\n<script src=\"https://twemoji.maxcdn.com/v/latest/twemoji.min.js\" crossorigin=\"anonymous\"></script>\\n<script>\\n    var isApple = /iPad|iPhone|iPod|OS X/.test(navigator.userAgent) && !window.MSStream;\\n    if (!isApple) {\\n        document.body = twemoji.parse(document.body);\\n    }\\n</script>\\n<style>\\nimg.emoji {\\n   height: 1.2em;\\n   width: 1.2em;\\n   margin: 0 .05em 0 .1em;\\n   vertical-align: -0.1em;\\n}\\n</style>\\n<!-- /Emojis for poor people -->\\n\\n        \\n    <script>\\n    $(function() {\\n        var lastVisitAt = localStorage.getItem(\"last_visit_\" + 7 + \"_at\");\\n        if (lastVisitAt) {\\n            // юзер уже был на странице, подсветим ему новые комменты\\n            $(\".inline-comment\").each(function() {\\n                var createdAt = parseInt($(this).data(\"timestamp\"));\\n                if (createdAt > lastVisitAt) {\\n                    $(this).addClass(\"inline-comment_new\");\\n                }\\n            });\\n        } else {\\n            // юзер тут впервые, скроем все эти стены комментов пока\\n            hideAllInlineComments();\\n        }\\n        localStorage.setItem(\"last_visit_\" + 7 + \"_at\", 1667574771);\\n    });\\n</script>\\n\\n\\n\\n        \\n            <div class=\"contacts-row contacts-row-footer\">\\n                <span>Get in touch &rarr;</span>\\n                <a href=\"mailto:me@vas3k.com\"><i class=\"fas fa-envelope\"></i>&nbsp;me@vas3k.com</a>\\n                <a href=\"https://t.me/vas3k\"><i class=\"fab fa-telegram\"></i>&nbsp;Telegram</a>\\n                <a href=\"https://twitter.com/vas3kcom\"><i class=\"fab fa-twitter-square\"></i>&nbsp;Twitter</a>\\n            </div>\\n        \\n\\n        \\n            <div class=\"footer\">\\n\\n            </div>\\n        \\n    </body>\\n</html>\\n'"
            ]
          },
          "execution_count": 3,
          "metadata": {},
          "output_type": "execute_result"
        }
      ],
      "source": [
        "content"
      ]
    },
    {
      "cell_type": "markdown",
      "metadata": {
        "id": "DEXLYaBP6nhc"
      },
      "source": [
        "## Preprocesar datos"
      ]
    },
    {
      "cell_type": "markdown",
      "metadata": {
        "id": "RET8oPEWPiUM"
      },
      "source": [
        "Formatear el contenido descargado en un formato legible"
      ]
    },
    {
      "cell_type": "code",
      "execution_count": null,
      "metadata": {
        "id": "TUQpTpGWPlBV"
      },
      "outputs": [],
      "source": [
        "soup=BeautifulSoup(content)\n",
        "\n",
        "raw=soup.findAll(\"div\", {\"class\": \"block-text\"})"
      ]
    },
    {
      "cell_type": "code",
      "execution_count": null,
      "metadata": {
        "id": "PTiF3K4MPrfC"
      },
      "outputs": [],
      "source": [
        "posts = []\n",
        "for i in range(len(raw)):\n",
        "  posts.append(raw[i].text)"
      ]
    },
    {
      "cell_type": "code",
      "execution_count": null,
      "metadata": {
        "colab": {
          "base_uri": "https://localhost:8080/",
          "height": 107
        },
        "id": "N3RWHK6pSiut",
        "outputId": "b26eaa80-febd-42de-d173-e3af99e13e70"
      },
      "outputs": [
        {
          "data": {
            "application/vnd.google.colaboratory.intrinsic+json": {
              "type": "string"
            },
            "text/plain": [
              "\"\\nIf you are too lazy for long reads, take a look at the picture below to get some understanding.\\n\\n\\n\\nAlways important to remember — there is never a sole way to solve a problem in the machine learning world. There are always several algorithms that fit, and you have to choose which one fits better. Everything can be solved with a neural network, of course, but who will pay for all these GeForces?\\nLet's start with a basic overview. Nowadays there are four main directions in machine learning.\\n\\n\\n\\n\""
            ]
          },
          "execution_count": 6,
          "metadata": {},
          "output_type": "execute_result"
        }
      ],
      "source": [
        "selected_post = random.choice(posts)\n",
        "selected_post"
      ]
    },
    {
      "cell_type": "markdown",
      "metadata": {
        "id": "3lfNoo-gIedC"
      },
      "source": [
        "## Tokenizar los datos"
      ]
    },
    {
      "cell_type": "code",
      "execution_count": null,
      "metadata": {
        "colab": {
          "base_uri": "https://localhost:8080/"
        },
        "id": "7hqtrSH1UG7w",
        "outputId": "c4ac199f-7627-4a3c-caea-7acc607a2fe5"
      },
      "outputs": [
        {
          "name": "stderr",
          "output_type": "stream",
          "text": [
            "[nltk_data] Downloading package stopwords to /root/nltk_data...\n",
            "[nltk_data]   Unzipping corpora/stopwords.zip.\n",
            "[nltk_data] Downloading package wordnet to /root/nltk_data...\n"
          ]
        },
        {
          "data": {
            "text/plain": [
              "True"
            ]
          },
          "execution_count": 7,
          "metadata": {},
          "output_type": "execute_result"
        }
      ],
      "source": [
        "import re\n",
        "import nltk\n",
        "from nltk.tokenize import WordPunctTokenizer\n",
        "nltk.download('stopwords')\n",
        "from nltk.corpus import stopwords\n",
        "nltk.download('wordnet')"
      ]
    },
    {
      "cell_type": "code",
      "execution_count": null,
      "metadata": {
        "colab": {
          "base_uri": "https://localhost:8080/"
        },
        "id": "vDkEOlCPUjBu",
        "outputId": "023905ec-456b-44d3-a052-40b539aac2c7"
      },
      "outputs": [
        {
          "data": {
            "text/plain": [
              "['If',\n",
              " 'you',\n",
              " 'are',\n",
              " 'too',\n",
              " 'lazy',\n",
              " 'for',\n",
              " 'long',\n",
              " 'reads',\n",
              " ',',\n",
              " 'take',\n",
              " 'a',\n",
              " 'look',\n",
              " 'at',\n",
              " 'the',\n",
              " 'picture',\n",
              " 'below',\n",
              " 'to',\n",
              " 'get',\n",
              " 'some',\n",
              " 'understanding',\n",
              " '.',\n",
              " 'Always',\n",
              " 'important',\n",
              " 'to',\n",
              " 'remember',\n",
              " '—',\n",
              " 'there',\n",
              " 'is',\n",
              " 'never',\n",
              " 'a',\n",
              " 'sole',\n",
              " 'way',\n",
              " 'to',\n",
              " 'solve',\n",
              " 'a',\n",
              " 'problem',\n",
              " 'in',\n",
              " 'the',\n",
              " 'machine',\n",
              " 'learning',\n",
              " 'world',\n",
              " '.',\n",
              " 'There',\n",
              " 'are',\n",
              " 'always',\n",
              " 'several',\n",
              " 'algorithms',\n",
              " 'that',\n",
              " 'fit',\n",
              " ',',\n",
              " 'and',\n",
              " 'you',\n",
              " 'have',\n",
              " 'to',\n",
              " 'choose',\n",
              " 'which',\n",
              " 'one',\n",
              " 'fits',\n",
              " 'better',\n",
              " '.',\n",
              " 'Everything',\n",
              " 'can',\n",
              " 'be',\n",
              " 'solved',\n",
              " 'with',\n",
              " 'a',\n",
              " 'neural',\n",
              " 'network',\n",
              " ',',\n",
              " 'of',\n",
              " 'course',\n",
              " ',',\n",
              " 'but',\n",
              " 'who',\n",
              " 'will',\n",
              " 'pay',\n",
              " 'for',\n",
              " 'all',\n",
              " 'these',\n",
              " 'GeForces',\n",
              " '?',\n",
              " 'Let',\n",
              " \"'\",\n",
              " 's',\n",
              " 'start',\n",
              " 'with',\n",
              " 'a',\n",
              " 'basic',\n",
              " 'overview',\n",
              " '.',\n",
              " 'Nowadays',\n",
              " 'there',\n",
              " 'are',\n",
              " 'four',\n",
              " 'main',\n",
              " 'directions',\n",
              " 'in',\n",
              " 'machine',\n",
              " 'learning',\n",
              " '.']"
            ]
          },
          "execution_count": 8,
          "metadata": {},
          "output_type": "execute_result"
        }
      ],
      "source": [
        "tokenized_post = WordPunctTokenizer().tokenize(selected_post)\n",
        "tokenized_post"
      ]
    },
    {
      "cell_type": "markdown",
      "metadata": {
        "id": "up-28enoIdcr"
      },
      "source": [
        "## Normalizar los datos"
      ]
    },
    {
      "cell_type": "code",
      "execution_count": null,
      "metadata": {
        "id": "bHC5t65JJuyJ"
      },
      "outputs": [],
      "source": [
        "# Eliminar tokens que no son palabras\n",
        "def clear_tokens(tokens):\n",
        "  clean_token=[]\n",
        "  for token in tokens:\n",
        "      token = token.lower()\n",
        "      # eliminar valores que no sean alfabéticos\n",
        "      new_token = re.sub(r'[^a-zA-Z]+', '', token) \n",
        "      # eliminar espacios y caractéres únicos\n",
        "      if new_token != \"\" and len(new_token) >= 2: \n",
        "          vowels=len([v for v in new_token if v in \"aeiou\"])\n",
        "          if vowels != 0: # eliminar lineas que solo contengan consonantes\n",
        "              clean_token.append(new_token)\n",
        "  return clean_token"
      ]
    },
    {
      "cell_type": "code",
      "execution_count": null,
      "metadata": {
        "colab": {
          "base_uri": "https://localhost:8080/"
        },
        "id": "W0sZRqq_xx-q",
        "outputId": "02d1f942-444a-43b0-8b44-84cdef9a5417"
      },
      "outputs": [
        {
          "data": {
            "text/plain": [
              "['if',\n",
              " 'you',\n",
              " 'are',\n",
              " 'too',\n",
              " 'lazy',\n",
              " 'for',\n",
              " 'long',\n",
              " 'reads',\n",
              " 'take',\n",
              " 'look',\n",
              " 'at',\n",
              " 'the',\n",
              " 'picture',\n",
              " 'below',\n",
              " 'to',\n",
              " 'get',\n",
              " 'some',\n",
              " 'understanding',\n",
              " 'always',\n",
              " 'important',\n",
              " 'to',\n",
              " 'remember',\n",
              " 'there',\n",
              " 'is',\n",
              " 'never',\n",
              " 'sole',\n",
              " 'way',\n",
              " 'to',\n",
              " 'solve',\n",
              " 'problem',\n",
              " 'in',\n",
              " 'the',\n",
              " 'machine',\n",
              " 'learning',\n",
              " 'world',\n",
              " 'there',\n",
              " 'are',\n",
              " 'always',\n",
              " 'several',\n",
              " 'algorithms',\n",
              " 'that',\n",
              " 'fit',\n",
              " 'and',\n",
              " 'you',\n",
              " 'have',\n",
              " 'to',\n",
              " 'choose',\n",
              " 'which',\n",
              " 'one',\n",
              " 'fits',\n",
              " 'better',\n",
              " 'everything',\n",
              " 'can',\n",
              " 'be',\n",
              " 'solved',\n",
              " 'with',\n",
              " 'neural',\n",
              " 'network',\n",
              " 'of',\n",
              " 'course',\n",
              " 'but',\n",
              " 'who',\n",
              " 'will',\n",
              " 'pay',\n",
              " 'for',\n",
              " 'all',\n",
              " 'these',\n",
              " 'geforces',\n",
              " 'let',\n",
              " 'start',\n",
              " 'with',\n",
              " 'basic',\n",
              " 'overview',\n",
              " 'nowadays',\n",
              " 'there',\n",
              " 'are',\n",
              " 'four',\n",
              " 'main',\n",
              " 'directions',\n",
              " 'in',\n",
              " 'machine',\n",
              " 'learning']"
            ]
          },
          "execution_count": 11,
          "metadata": {},
          "output_type": "execute_result"
        }
      ],
      "source": [
        "post = clear_tokens(tokenized_post)\n",
        "post"
      ]
    },
    {
      "cell_type": "markdown",
      "metadata": {
        "id": "D4JjoEamypAx"
      },
      "source": [
        "## Eliminar puntuación"
      ]
    },
    {
      "cell_type": "code",
      "execution_count": null,
      "metadata": {
        "colab": {
          "base_uri": "https://localhost:8080/"
        },
        "id": "LiHk01YzLdkb",
        "outputId": "2052896b-49bd-4822-ad58-a73a3c469aa9"
      },
      "outputs": [
        {
          "name": "stdout",
          "output_type": "stream",
          "text": [
            "['i', 'me', 'my', 'myself', 'we', 'our', 'ours', 'ourselves', 'you', \"you're\", \"you've\", \"you'll\", \"you'd\", 'your', 'yours', 'yourself', 'yourselves', 'he', 'him', 'his', 'himself', 'she', \"she's\", 'her', 'hers', 'herself', 'it', \"it's\", 'its', 'itself', 'they', 'them', 'their', 'theirs', 'themselves', 'what', 'which', 'who', 'whom', 'this', 'that', \"that'll\", 'these', 'those', 'am', 'is', 'are', 'was', 'were', 'be', 'been', 'being', 'have', 'has', 'had', 'having', 'do', 'does', 'did', 'doing', 'a', 'an', 'the', 'and', 'but', 'if', 'or', 'because', 'as', 'until', 'while', 'of', 'at', 'by', 'for', 'with', 'about', 'against', 'between', 'into', 'through', 'during', 'before', 'after', 'above', 'below', 'to', 'from', 'up', 'down', 'in', 'out', 'on', 'off', 'over', 'under', 'again', 'further', 'then', 'once', 'here', 'there', 'when', 'where', 'why', 'how', 'all', 'any', 'both', 'each', 'few', 'more', 'most', 'other', 'some', 'such', 'no', 'nor', 'not', 'only', 'own', 'same', 'so', 'than', 'too', 'very', 's', 't', 'can', 'will', 'just', 'don', \"don't\", 'should', \"should've\", 'now', 'd', 'll', 'm', 'o', 're', 've', 'y', 'ain', 'aren', \"aren't\", 'couldn', \"couldn't\", 'didn', \"didn't\", 'doesn', \"doesn't\", 'hadn', \"hadn't\", 'hasn', \"hasn't\", 'haven', \"haven't\", 'isn', \"isn't\", 'ma', 'mightn', \"mightn't\", 'mustn', \"mustn't\", 'needn', \"needn't\", 'shan', \"shan't\", 'shouldn', \"shouldn't\", 'wasn', \"wasn't\", 'weren', \"weren't\", 'won', \"won't\", 'wouldn', \"wouldn't\", 'could', 'though', 'would', 'also', 'many', 'much']\n"
          ]
        }
      ],
      "source": [
        "# Obtener la lista de stop words\n",
        "stop_words = stopwords.words('english')\n",
        "# Añadir más palabras a la lista\n",
        "stop_words.extend([\"could\",\"though\",\"would\",\"also\",\"many\",'much'])\n",
        "print(stop_words)\n",
        "# Eliminar las palabras de la lista de tokens\n",
        "tokens = [x for x in post if x not in stop_words]"
      ]
    },
    {
      "cell_type": "code",
      "execution_count": null,
      "metadata": {
        "colab": {
          "base_uri": "https://localhost:8080/"
        },
        "id": "eIIBdEf-LeS7",
        "outputId": "ebb512fd-261e-410d-852d-b7bbf33cdef7"
      },
      "outputs": [
        {
          "data": {
            "text/plain": [
              "['lazy',\n",
              " 'long',\n",
              " 'reads',\n",
              " 'take',\n",
              " 'look',\n",
              " 'picture',\n",
              " 'get',\n",
              " 'understanding',\n",
              " 'always',\n",
              " 'important',\n",
              " 'remember',\n",
              " 'never',\n",
              " 'sole',\n",
              " 'way',\n",
              " 'solve',\n",
              " 'problem',\n",
              " 'machine',\n",
              " 'learning',\n",
              " 'world',\n",
              " 'always',\n",
              " 'several',\n",
              " 'algorithms',\n",
              " 'fit',\n",
              " 'choose',\n",
              " 'one',\n",
              " 'fits',\n",
              " 'better',\n",
              " 'everything',\n",
              " 'solved',\n",
              " 'neural',\n",
              " 'network',\n",
              " 'course',\n",
              " 'pay',\n",
              " 'geforces',\n",
              " 'let',\n",
              " 'start',\n",
              " 'basic',\n",
              " 'overview',\n",
              " 'nowadays',\n",
              " 'four',\n",
              " 'main',\n",
              " 'directions',\n",
              " 'machine',\n",
              " 'learning']"
            ]
          },
          "execution_count": 13,
          "metadata": {},
          "output_type": "execute_result"
        }
      ],
      "source": [
        "tokens"
      ]
    }
  ],
  "metadata": {
    "colab": {
      "collapsed_sections": [],
      "provenance": []
    },
    "kernelspec": {
      "display_name": "Python 3.7.11 ('base')",
      "language": "python",
      "name": "python3"
    },
    "language_info": {
      "name": "python",
      "version": "3.7.11"
    },
    "vscode": {
      "interpreter": {
        "hash": "f076537bb276b42a17a68ee1ac7ae5d287449b2c7612a80803578e6d23289952"
      }
    }
  },
  "nbformat": 4,
  "nbformat_minor": 0
}
