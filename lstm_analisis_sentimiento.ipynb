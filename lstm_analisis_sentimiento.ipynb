{
  "cells": [
    {
      "cell_type": "markdown",
      "metadata": {},
      "source": [
        "<a href=\"https://colab.research.google.com/github/NahuelCostaCortez/InteligeciaNegocio/blob/main/lstm_analisis_sentimiento.ipynb\" target=\"_parent\"><img src=\"https://colab.research.google.com/assets/colab-badge.svg\" alt=\"Open In Colab\"/></a>"
      ]
    },
    {
      "cell_type": "code",
      "execution_count": null,
      "metadata": {
        "id": "a9KXKCFqA5jc"
      },
      "outputs": [],
      "source": [
        "import numpy as np\n",
        "from tensorflow import keras\n",
        "from tensorflow.keras import layers\n",
        "import matplotlib.pyplot as plt"
      ]
    },
    {
      "cell_type": "code",
      "execution_count": null,
      "metadata": {
        "id": "VU5WA2ruBd9m"
      },
      "outputs": [],
      "source": [
        "# Función auxiliar para visualizar el proceso de entrenamiento\n",
        "def plot_graphs(history, string):\n",
        "  plt.plot(history.history[string])\n",
        "  plt.plot(history.history['val_'+string])\n",
        "  plt.xlabel(\"Epochs\")\n",
        "  plt.ylabel(string)\n",
        "  plt.legend([string, 'val_'+string])\n",
        "  plt.show()"
      ]
    },
    {
      "cell_type": "markdown",
      "metadata": {
        "id": "qxI1poKpB_An"
      },
      "source": [
        "## Carga de datos"
      ]
    },
    {
      "cell_type": "code",
      "execution_count": null,
      "metadata": {
        "id": "1EoTnzXQSMBt"
      },
      "outputs": [],
      "source": [
        "max_features = 20000  # Número de palabras del vocabulario\n",
        "maxlen = 200  # Tamaño máximo de palabras de cada review"
      ]
    },
    {
      "cell_type": "code",
      "execution_count": null,
      "metadata": {
        "colab": {
          "base_uri": "https://localhost:8080/"
        },
        "id": "ZfOLVXmsA9J5",
        "outputId": "af2583d0-d229-49a5-931b-0c17b6cdfcb6"
      },
      "outputs": [
        {
          "name": "stdout",
          "output_type": "stream",
          "text": [
            "Número de secuencias de train: 25000\n",
            "Número de secuencias de validación: 25000\n"
          ]
        }
      ],
      "source": [
        "(x_train, y_train), (x_val, y_val) = keras.datasets.imdb.load_data(\n",
        "    num_words=max_features\n",
        ")\n",
        "print(\"Número de secuencias de train:\", len(x_train))\n",
        "print(\"Número de secuencias de validación:\", len(x_val))\n",
        "x_train = keras.preprocessing.sequence.pad_sequences(x_train, maxlen=maxlen)\n",
        "x_val = keras.preprocessing.sequence.pad_sequences(x_val, maxlen=maxlen)"
      ]
    },
    {
      "cell_type": "markdown",
      "metadata": {
        "id": "V7vWIj8CCA3u"
      },
      "source": [
        "## Entrenamiento del modelo"
      ]
    },
    {
      "cell_type": "markdown",
      "metadata": {
        "id": "yeGWQHeZT6NZ"
      },
      "source": [
        "Modelo con una capa LSTM"
      ]
    },
    {
      "cell_type": "code",
      "execution_count": null,
      "metadata": {
        "colab": {
          "base_uri": "https://localhost:8080/"
        },
        "id": "YnpxhAeET5op",
        "outputId": "0ac19680-e727-42d9-96ba-c3e7bd3b33f9"
      },
      "outputs": [
        {
          "name": "stdout",
          "output_type": "stream",
          "text": [
            "Model: \"model_3\"\n",
            "_________________________________________________________________\n",
            " Layer (type)                Output Shape              Param #   \n",
            "=================================================================\n",
            " input_4 (InputLayer)        [(None, None)]            0         \n",
            "                                                                 \n",
            " embedding_3 (Embedding)     (None, None, 128)         2560000   \n",
            "                                                                 \n",
            " lstm_6 (LSTM)               (None, 64)                49408     \n",
            "                                                                 \n",
            " dense_3 (Dense)             (None, 1)                 65        \n",
            "                                                                 \n",
            "=================================================================\n",
            "Total params: 2,609,473\n",
            "Trainable params: 2,609,473\n",
            "Non-trainable params: 0\n",
            "_________________________________________________________________\n"
          ]
        }
      ],
      "source": [
        "# Capa de entrada\n",
        "inputs = keras.Input(shape=(None,), dtype=\"int32\")\n",
        "# Capa de embedding - OJO: aquí la estamos aprendiendo, no es pre-entrenada!\n",
        "x = layers.Embedding(max_features, 128)(inputs)\n",
        "# Añadimos una capa LSTM\n",
        "x = layers.LSTM(64)(x)\n",
        "# Capa de salida, 1 neurona para predecir el tipo de review: positiva o negativa\n",
        "outputs = layers.Dense(1, activation=\"sigmoid\")(x)\n",
        "model = keras.Model(inputs, outputs)\n",
        "model.summary()"
      ]
    },
    {
      "cell_type": "code",
      "execution_count": null,
      "metadata": {
        "colab": {
          "base_uri": "https://localhost:8080/"
        },
        "id": "D6wc2PQ8Sldu",
        "outputId": "e1f6843c-d1c8-416b-f127-35c23c4bf6f6"
      },
      "outputs": [
        {
          "name": "stdout",
          "output_type": "stream",
          "text": [
            "Epoch 1/10\n",
            "782/782 [==============================] - 14s 16ms/step - loss: 0.3790 - accuracy: 0.8308 - val_loss: 0.3076 - val_accuracy: 0.8726\n",
            "Epoch 2/10\n",
            "782/782 [==============================] - 12s 16ms/step - loss: 0.2062 - accuracy: 0.9223 - val_loss: 0.3295 - val_accuracy: 0.8706\n",
            "Epoch 3/10\n",
            "782/782 [==============================] - 14s 18ms/step - loss: 0.1421 - accuracy: 0.9499 - val_loss: 0.3904 - val_accuracy: 0.8290\n",
            "Epoch 4/10\n",
            "782/782 [==============================] - 16s 20ms/step - loss: 0.1006 - accuracy: 0.9649 - val_loss: 0.5381 - val_accuracy: 0.8562\n",
            "Epoch 5/10\n",
            "782/782 [==============================] - 12s 15ms/step - loss: 0.0714 - accuracy: 0.9755 - val_loss: 0.4608 - val_accuracy: 0.8563\n",
            "Epoch 6/10\n",
            "782/782 [==============================] - 12s 15ms/step - loss: 0.0571 - accuracy: 0.9803 - val_loss: 0.5043 - val_accuracy: 0.8506\n",
            "Epoch 7/10\n",
            "782/782 [==============================] - 13s 16ms/step - loss: 0.0390 - accuracy: 0.9878 - val_loss: 0.5651 - val_accuracy: 0.8487\n",
            "Epoch 8/10\n",
            "782/782 [==============================] - 16s 20ms/step - loss: 0.0237 - accuracy: 0.9934 - val_loss: 0.6762 - val_accuracy: 0.8532\n",
            "Epoch 9/10\n",
            "782/782 [==============================] - 12s 15ms/step - loss: 0.0196 - accuracy: 0.9942 - val_loss: 0.7494 - val_accuracy: 0.8528\n",
            "Epoch 10/10\n",
            "782/782 [==============================] - 12s 15ms/step - loss: 0.0212 - accuracy: 0.9940 - val_loss: 0.7467 - val_accuracy: 0.8471\n"
          ]
        }
      ],
      "source": [
        "model.compile(\"adam\", \"binary_crossentropy\", metrics=[\"accuracy\"])\n",
        "history = model.fit(x_train, y_train, batch_size=32, epochs=10, validation_data=(x_val, y_val))"
      ]
    },
    {
      "cell_type": "code",
      "execution_count": null,
      "metadata": {
        "colab": {
          "base_uri": "https://localhost:8080/",
          "height": 279
        },
        "id": "YNDBW5VdX0zn",
        "outputId": "76f7ee3a-dae0-4eed-863e-9d50424c819d"
      },
      "outputs": [
        {
          "data": {
            "image/png": "[encoded data removed]",
            "text/plain": [
              "<Figure size 432x288 with 1 Axes>"
            ]
          },
          "metadata": {
            "needs_background": "light"
          },
          "output_type": "display_data"
        }
      ],
      "source": [
        "plot_graphs(history, 'loss')"
      ]
    },
    {
      "cell_type": "code",
      "execution_count": null,
      "metadata": {
        "colab": {
          "base_uri": "https://localhost:8080/",
          "height": 280
        },
        "id": "A8N85oo4S2me",
        "outputId": "1b5dd3dd-14a4-4f54-f700-a8d177665b79"
      },
      "outputs": [
        {
          "data": {
            "image/png": "[encoded data removed]",
            "text/plain": [
              "<Figure size 432x288 with 1 Axes>"
            ]
          },
          "metadata": {
            "needs_background": "light"
          },
          "output_type": "display_data"
        }
      ],
      "source": [
        "plot_graphs(history, 'accuracy')"
      ]
    },
    {
      "cell_type": "markdown",
      "metadata": {
        "id": "2YCKCE0RXySP"
      },
      "source": [
        "El error de train es prácticamente 0 y el de validación aumenta en lugar de disminuir -> esto significa que la red está sobreajustando los datos (**overfitting**)"
      ]
    },
    {
      "cell_type": "markdown",
      "metadata": {
        "id": "9FSfl0OHX9l_"
      },
      "source": [
        "Vamos a añadir capas Dropout para prevenir esto.\n",
        "\n",
        "Las capas Dropout desactivan conexiones aleatoriamente entre las neuronas. De esta manera se evita que la red memorice los datos y generalice mejor en inferencia."
      ]
    },
    {
      "cell_type": "code",
      "execution_count": null,
      "metadata": {
        "colab": {
          "base_uri": "https://localhost:8080/"
        },
        "id": "N2JeEiLpYRtX",
        "outputId": "89b35d3e-6e9b-4530-8d0b-66852ef5e627"
      },
      "outputs": [
        {
          "name": "stdout",
          "output_type": "stream",
          "text": [
            "Model: \"model_9\"\n",
            "_________________________________________________________________\n",
            " Layer (type)                Output Shape              Param #   \n",
            "=================================================================\n",
            " input_14 (InputLayer)       [(None, None)]            0         \n",
            "                                                                 \n",
            " embedding_13 (Embedding)    (None, None, 128)         2560000   \n",
            "                                                                 \n",
            " dropout_10 (Dropout)        (None, None, 128)         0         \n",
            "                                                                 \n",
            " lstm_13 (LSTM)              (None, 64)                49408     \n",
            "                                                                 \n",
            " dropout_11 (Dropout)        (None, 64)                0         \n",
            "                                                                 \n",
            " dense_10 (Dense)            (None, 1)                 65        \n",
            "                                                                 \n",
            "=================================================================\n",
            "Total params: 2,609,473\n",
            "Trainable params: 2,609,473\n",
            "Non-trainable params: 0\n",
            "_________________________________________________________________\n"
          ]
        }
      ],
      "source": [
        "# Capa de entrada\n",
        "inputs = keras.Input(shape=(None,), dtype=\"int32\")\n",
        "# Capa de embedding - OJO: aquí la estamos aprendiendo, no es pre-entrenada!\n",
        "x = layers.Embedding(max_features, 128)(inputs)\n",
        "x = layers.Dropout(0.6)(x)\n",
        "# Añadimos una capa LSTM con dropout\n",
        "x = layers.LSTM(64, dropout=0.6)(x)\n",
        "x = layers.Dropout(0.6)(x)\n",
        "# Capa de salida, 1 neurona para predecir el tipo de review: positiva o negativa\n",
        "outputs = layers.Dense(1, activation=\"sigmoid\")(x)\n",
        "model = keras.Model(inputs, outputs)\n",
        "model.summary()"
      ]
    },
    {
      "cell_type": "code",
      "execution_count": null,
      "metadata": {
        "colab": {
          "base_uri": "https://localhost:8080/"
        },
        "id": "vNXSHiuGY65g",
        "outputId": "adb55434-5022-4134-b676-21ab66a76668"
      },
      "outputs": [
        {
          "name": "stdout",
          "output_type": "stream",
          "text": [
            "Epoch 1/8\n",
            "782/782 [==============================] - 16s 18ms/step - loss: 0.4612 - accuracy: 0.7756 - val_loss: 0.3296 - val_accuracy: 0.8593\n",
            "Epoch 2/8\n",
            "782/782 [==============================] - 14s 17ms/step - loss: 0.3012 - accuracy: 0.8818 - val_loss: 0.3497 - val_accuracy: 0.8592\n",
            "Epoch 3/8\n",
            "782/782 [==============================] - 13s 16ms/step - loss: 0.2407 - accuracy: 0.9098 - val_loss: 0.3050 - val_accuracy: 0.8741\n",
            "Epoch 4/8\n",
            "782/782 [==============================] - 14s 18ms/step - loss: 0.2044 - accuracy: 0.9241 - val_loss: 0.3233 - val_accuracy: 0.8754\n",
            "Epoch 5/8\n",
            "782/782 [==============================] - 15s 19ms/step - loss: 0.1818 - accuracy: 0.9325 - val_loss: 0.3008 - val_accuracy: 0.8766\n",
            "Epoch 6/8\n",
            "782/782 [==============================] - 14s 18ms/step - loss: 0.1665 - accuracy: 0.9391 - val_loss: 0.4017 - val_accuracy: 0.8622\n",
            "Epoch 7/8\n",
            "782/782 [==============================] - 15s 19ms/step - loss: 0.1467 - accuracy: 0.9464 - val_loss: 0.3217 - val_accuracy: 0.8694\n",
            "Epoch 8/8\n",
            "782/782 [==============================] - 15s 19ms/step - loss: 0.1392 - accuracy: 0.9497 - val_loss: 0.4190 - val_accuracy: 0.8706\n"
          ]
        }
      ],
      "source": [
        "model.compile(\"adam\", \"binary_crossentropy\", metrics=[\"accuracy\"])\n",
        "history = model.fit(x_train, y_train, batch_size=32, epochs=8, validation_data=(x_val, y_val))"
      ]
    },
    {
      "cell_type": "code",
      "execution_count": null,
      "metadata": {
        "colab": {
          "base_uri": "https://localhost:8080/",
          "height": 279
        },
        "id": "WGR1T9PUcGIL",
        "outputId": "7621bfd1-6f63-4a05-84d8-952b41f0f550"
      },
      "outputs": [
        {
          "data": {
            "image/png": "[encoded data removed]",
            "text/plain": [
              "<Figure size 432x288 with 1 Axes>"
            ]
          },
          "metadata": {
            "needs_background": "light"
          },
          "output_type": "display_data"
        }
      ],
      "source": [
        "plot_graphs(history, 'loss')"
      ]
    },
    {
      "cell_type": "code",
      "execution_count": null,
      "metadata": {
        "colab": {
          "base_uri": "https://localhost:8080/",
          "height": 279
        },
        "id": "zC-SMaMeb0VT",
        "outputId": "5e42b629-ba3f-4960-bfcb-800e8a7fbddc"
      },
      "outputs": [
        {
          "data": {
            "image/png": "[encoded data removed]",
            "text/plain": [
              "<Figure size 432x288 with 1 Axes>"
            ]
          },
          "metadata": {
            "needs_background": "light"
          },
          "output_type": "display_data"
        }
      ],
      "source": [
        "plot_graphs(history, 'accuracy')"
      ]
    },
    {
      "cell_type": "markdown",
      "metadata": {
        "id": "6LRE7oeghYfk"
      },
      "source": [
        "Algo mejora pero no lo suficiente. A partir de la epoch 4 vuelve a haber overfitting. Esto puede significar:\n",
        "\n",
        "\n",
        "*   La red no es capaz de generalizar mejor independientemente de que haya o no sobreajuste\n",
        "*   Los datos de train no son lo suficientemente representativos como para reflejar el comportamiento de los datos de validación\n",
        "*  Se necesita un mejor ajuste de hiperparámetros (tamaño del vocabulario, batch_size, tasa de dropout...)\n",
        "\n"
      ]
    },
    {
      "cell_type": "code",
      "execution_count": null,
      "metadata": {
        "id": "R3UghEGicCLC"
      },
      "outputs": [],
      "source": []
    },
    {
      "cell_type": "code",
      "execution_count": null,
      "metadata": {},
      "outputs": [],
      "source": []
    },
    {
      "cell_type": "markdown",
      "metadata": {
        "id": "uGk0OayAVPb8"
      },
      "source": [
        "Modelo con capas Bidirectional"
      ]
    },
    {
      "cell_type": "code",
      "execution_count": null,
      "metadata": {
        "colab": {
          "base_uri": "https://localhost:8080/"
        },
        "id": "yH6Joj-vVSwj",
        "outputId": "6716e119-1097-49a2-af66-48bba41d7693"
      },
      "outputs": [
        {
          "name": "stdout",
          "output_type": "stream",
          "text": [
            "Model: \"model_1\"\n",
            "_________________________________________________________________\n",
            " Layer (type)                Output Shape              Param #   \n",
            "=================================================================\n",
            " input_2 (InputLayer)        [(None, None)]            0         \n",
            "                                                                 \n",
            " embedding_1 (Embedding)     (None, None, 128)         2560000   \n",
            "                                                                 \n",
            " bidirectional (Bidirectiona  (None, None, 128)        98816     \n",
            " l)                                                              \n",
            "                                                                 \n",
            " bidirectional_1 (Bidirectio  (None, 128)              98816     \n",
            " nal)                                                            \n",
            "                                                                 \n",
            " dense_1 (Dense)             (None, 1)                 129       \n",
            "                                                                 \n",
            "=================================================================\n",
            "Total params: 2,757,761\n",
            "Trainable params: 2,757,761\n",
            "Non-trainable params: 0\n",
            "_________________________________________________________________\n"
          ]
        }
      ],
      "source": [
        "inputs = keras.Input(shape=(None,), dtype=\"int32\")\n",
        "x = layers.Embedding(max_features, 128)(inputs)\n",
        "x = layers.Bidirectional(layers.LSTM(64, return_sequences=True))(x)\n",
        "x = layers.Bidirectional(layers.LSTM(64))(x)\n",
        "outputs = layers.Dense(1, activation=\"sigmoid\")(x)\n",
        "model = keras.Model(inputs, outputs)\n",
        "model.summary()"
      ]
    },
    {
      "cell_type": "code",
      "execution_count": null,
      "metadata": {
        "colab": {
          "base_uri": "https://localhost:8080/"
        },
        "id": "4-GZggjVVW96",
        "outputId": "f095795f-8891-4fac-f04b-aede1dd613d8"
      },
      "outputs": [
        {
          "name": "stdout",
          "output_type": "stream",
          "text": [
            "Epoch 1/10\n",
            "782/782 [==============================] - 40s 45ms/step - loss: 0.4064 - accuracy: 0.8142 - val_loss: 0.3500 - val_accuracy: 0.8523\n",
            "Epoch 2/10\n",
            "782/782 [==============================] - 34s 43ms/step - loss: 0.2791 - accuracy: 0.8858 - val_loss: 0.3474 - val_accuracy: 0.8564\n",
            "Epoch 3/10\n",
            "782/782 [==============================] - 34s 43ms/step - loss: 0.1883 - accuracy: 0.9304 - val_loss: 0.3542 - val_accuracy: 0.8567\n",
            "Epoch 4/10\n",
            "782/782 [==============================] - 33s 42ms/step - loss: 0.1132 - accuracy: 0.9608 - val_loss: 0.3996 - val_accuracy: 0.8583\n",
            "Epoch 5/10\n",
            "782/782 [==============================] - 33s 42ms/step - loss: 0.0742 - accuracy: 0.9747 - val_loss: 0.4488 - val_accuracy: 0.8523\n",
            "Epoch 6/10\n",
            "782/782 [==============================] - 33s 42ms/step - loss: 0.0519 - accuracy: 0.9833 - val_loss: 0.4900 - val_accuracy: 0.8488\n",
            "Epoch 7/10\n",
            "782/782 [==============================] - 33s 42ms/step - loss: 0.0375 - accuracy: 0.9882 - val_loss: 0.5993 - val_accuracy: 0.8550\n",
            "Epoch 8/10\n",
            "782/782 [==============================] - 33s 42ms/step - loss: 0.0283 - accuracy: 0.9912 - val_loss: 0.6133 - val_accuracy: 0.8468\n",
            "Epoch 9/10\n",
            "782/782 [==============================] - 33s 42ms/step - loss: 0.0228 - accuracy: 0.9934 - val_loss: 0.6366 - val_accuracy: 0.8524\n",
            "Epoch 10/10\n",
            "782/782 [==============================] - 33s 43ms/step - loss: 0.0204 - accuracy: 0.9938 - val_loss: 0.7372 - val_accuracy: 0.8489\n"
          ]
        }
      ],
      "source": [
        "model.compile(\"adam\", \"binary_crossentropy\", metrics=[\"accuracy\"])\n",
        "history = model.fit(x_train, y_train, batch_size=32, epochs=10, validation_data=(x_val, y_val))"
      ]
    },
    {
      "cell_type": "markdown",
      "metadata": {
        "id": "OVqVvl1STHWg"
      },
      "source": [
        "## Probar el modelo en inferencia"
      ]
    },
    {
      "cell_type": "markdown",
      "metadata": {
        "id": "l91-SRYCTChH"
      },
      "source": [
        "[Demo del modelo](https://huggingface.co/spaces/keras-io/bidirectional_lstm_imdb)"
      ]
    }
  ],
  "metadata": {
    "accelerator": "GPU",
    "colab": {
      "collapsed_sections": [],
      "provenance": []
    },
    "gpuClass": "standard",
    "kernelspec": {
      "display_name": "Python 3.7.11 ('base')",
      "language": "python",
      "name": "python3"
    },
    "language_info": {
      "name": "python",
      "version": "3.7.11"
    },
    "vscode": {
      "interpreter": {
        "hash": "f076537bb276b42a17a68ee1ac7ae5d287449b2c7612a80803578e6d23289952"
      }
    }
  },
  "nbformat": 4,
  "nbformat_minor": 0
}
